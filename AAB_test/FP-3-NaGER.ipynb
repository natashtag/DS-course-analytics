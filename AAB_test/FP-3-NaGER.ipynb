{
 "cells": [
  {
   "cell_type": "markdown",
   "id": "2cabcfee",
   "metadata": {},
   "source": [
    "### Description\n",
    "This task aims to verify if there is statistically significant effect on the revenue of a dating app after increasing the price of a premium subscription. The A/A and subsequently A/B testing were conducted and the data recorded.<br>\n",
    "#### Plan\n",
    "The Average Revenue per Paying User (ARPPU) was chosen to evaluate, because paying users are only a small part of a total. Plus, since the premium subscription price was increased, it is unlikely that non-paying users will be attracted by it to become premium in the future.<br>\n",
    "Data: Two Control and one Treatment group. User Profile and User Transactions datasets.<br>\n",
    "Subcategories of users: users from Europe and from North America<br>\n",
    "Parameters and methods used:<br>\n",
    "&nbsp;&nbsp;• alpha(α) is set to 0.05 (the probability of a false positive is 5%)<br>\n",
    "&nbsp;&nbsp;• t-test, bootstrap"
   ]
  },
  {
   "cell_type": "markdown",
   "id": "3cd1d0d9",
   "metadata": {},
   "source": [
    "__H0:__ The Null Hypothesis is that there is no significant difference between the mean revenues of the Control (A1 and A2) and Treatment (B) groups."
   ]
  },
  {
   "cell_type": "code",
   "execution_count": 67,
   "id": "f4dfd2dc",
   "metadata": {},
   "outputs": [],
   "source": [
    "import pandas as pd\n",
    "import numpy as np\n",
    "import seaborn as sns\n",
    "from matplotlib import pyplot as plt\n",
    "from scipy.stats import ttest_ind, norm\n",
    "from scipy import stats\n",
    "\n",
    "sns.set()"
   ]
  },
  {
   "cell_type": "code",
   "execution_count": 68,
   "id": "43f2b21b",
   "metadata": {},
   "outputs": [],
   "source": [
    "# User Transactions\n",
    "transactions_control1_url = 'https://getfile.dokpub.com/yandex/get/https://disk.yandex.ru/d/84jzzJeQ4tqVyg'\n",
    "transactions_control2_url = 'https://getfile.dokpub.com/yandex/get/https://disk.yandex.ru/d/_pOo7mrDCZZMyA'\n",
    "transactions_test_url = 'https://getfile.dokpub.com/yandex/get/https://disk.yandex.ru/d/3viYBnm7cyihkQ'"
   ]
  },
  {
   "cell_type": "code",
   "execution_count": 69,
   "id": "b520efa3",
   "metadata": {},
   "outputs": [],
   "source": [
    "# User Profiles\n",
    "users_control1_url = 'https://getfile.dokpub.com/yandex/get/https://disk.yandex.ru/d/TxOD_JxnkMd4mA'\n",
    "users_control2_url = 'https://getfile.dokpub.com/yandex/get/https://disk.yandex.ru/d/YT6OWRK2cTWfLg'\n",
    "users_test_url = 'https://getfile.dokpub.com/yandex/get/https://disk.yandex.ru/d/L8HxRYDn2l4h9A'"
   ]
  },
  {
   "cell_type": "code",
   "execution_count": 71,
   "id": "41a3b57f",
   "metadata": {},
   "outputs": [],
   "source": [
    "# Load files\n",
    "transactions_A1 = pd.read_csv(transactions_control1_url, sep=';', parse_dates=['joined_at', 'paid_at'])\n",
    "transactions_A2 = pd.read_csv(transactions_control2_url, sep=';', parse_dates=['joined_at', 'paid_at'])\n",
    "transactions_B = pd.read_csv(transactions_test_url, sep=';', parse_dates=['joined_at', 'paid_at'])\n",
    "users_A1 = pd.read_csv(users_control1_url, sep=';')\n",
    "users_A2 = pd.read_csv(users_control2_url, sep=';')\n",
    "users_B = pd.read_csv(users_test_url, sep=';')"
   ]
  },
  {
   "cell_type": "markdown",
   "id": "efaa895f",
   "metadata": {},
   "source": [
    "### Explore the data"
   ]
  },
  {
   "cell_type": "code",
   "execution_count": 72,
   "id": "6bbd9bfa",
   "metadata": {},
   "outputs": [
    {
     "data": {
      "text/plain": [
       "uid             630\n",
       "country         630\n",
       "joined_at       630\n",
       "paid_at         630\n",
       "revenue         630\n",
       "payment_id      630\n",
       "from_page       630\n",
       "product_type    630\n",
       "dtype: int64"
      ]
     },
     "execution_count": 72,
     "metadata": {},
     "output_type": "execute_result"
    }
   ],
   "source": [
    "# Check for NA\n",
    "transactions_A1.isna().sum()"
   ]
  },
  {
   "cell_type": "code",
   "execution_count": 73,
   "id": "91dfc9c1",
   "metadata": {
    "scrolled": false
   },
   "outputs": [],
   "source": [
    "# Drop NAs in A1\n",
    "transactions_A1 = transactions_A1.dropna()"
   ]
  },
  {
   "cell_type": "code",
   "execution_count": 74,
   "id": "cc2d3305",
   "metadata": {
    "scrolled": true
   },
   "outputs": [
    {
     "data": {
      "text/plain": [
       "uid                   int64\n",
       "age                   int64\n",
       "attraction_coeff      int64\n",
       "coins               float64\n",
       "country              object\n",
       "visit_days           object\n",
       "gender                int64\n",
       "age_filter_start      int64\n",
       "age_filter_end        int64\n",
       "views_count           int64\n",
       "was_premium         float64\n",
       "is_premium          float64\n",
       "total_revenue         int64\n",
       "dtype: object"
      ]
     },
     "execution_count": 74,
     "metadata": {},
     "output_type": "execute_result"
    }
   ],
   "source": [
    "# Types\n",
    "users_A1.dtypes"
   ]
  },
  {
   "cell_type": "code",
   "execution_count": 75,
   "id": "40f4d94b",
   "metadata": {},
   "outputs": [
    {
     "data": {
      "text/plain": [
       "uid                      int64\n",
       "country                 object\n",
       "joined_at       datetime64[ns]\n",
       "paid_at         datetime64[ns]\n",
       "revenue                  int64\n",
       "payment_id               int64\n",
       "from_page               object\n",
       "product_type            object\n",
       "dtype: object"
      ]
     },
     "execution_count": 75,
     "metadata": {},
     "output_type": "execute_result"
    }
   ],
   "source": [
    "transactions_B.dtypes"
   ]
  },
  {
   "cell_type": "code",
   "execution_count": 76,
   "id": "43fa61de",
   "metadata": {},
   "outputs": [],
   "source": [
    "# change types in transactions_A1, A2, B\n",
    "transactions_A1.astype = transactions_A1.astype({'uid': 'int', 'revenue': 'int', 'payment_id': 'int', \n",
    "                                                 'country': 'string', 'from_page': 'string', 'product_type': 'string'})\n",
    "transactions_A2.astype = transactions_A2.astype({'country': 'string', 'from_page': 'string', 'product_type': 'string'})\n",
    "transactions_B.astype = transactions_B.astype({'country': 'string', 'from_page': 'string', 'product_type': 'string'})"
   ]
  },
  {
   "cell_type": "code",
   "execution_count": 77,
   "id": "c4e6701e",
   "metadata": {},
   "outputs": [],
   "source": [
    "# change types in users_A1, A2, B\n",
    "users_A1 = users_A1.astype({'country': 'string', 'visit_days': 'string'})\n",
    "users_A2 = users_A2.astype({'country': 'string', 'visit_days': 'string'})\n",
    "users_B = users_B.astype({'country': 'string', 'visit_days': 'string'})"
   ]
  },
  {
   "cell_type": "code",
   "execution_count": 78,
   "id": "b1d54c4a",
   "metadata": {
    "scrolled": false
   },
   "outputs": [
    {
     "data": {
      "text/html": [
       "<div>\n",
       "<style scoped>\n",
       "    .dataframe tbody tr th:only-of-type {\n",
       "        vertical-align: middle;\n",
       "    }\n",
       "\n",
       "    .dataframe tbody tr th {\n",
       "        vertical-align: top;\n",
       "    }\n",
       "\n",
       "    .dataframe thead th {\n",
       "        text-align: right;\n",
       "    }\n",
       "</style>\n",
       "<table border=\"1\" class=\"dataframe\">\n",
       "  <thead>\n",
       "    <tr style=\"text-align: right;\">\n",
       "      <th></th>\n",
       "      <th>uid</th>\n",
       "      <th>country</th>\n",
       "      <th>joined_at</th>\n",
       "      <th>paid_at</th>\n",
       "      <th>revenue</th>\n",
       "      <th>payment_id</th>\n",
       "      <th>from_page</th>\n",
       "      <th>product_type</th>\n",
       "    </tr>\n",
       "  </thead>\n",
       "  <tbody>\n",
       "    <tr>\n",
       "      <th>0</th>\n",
       "      <td>891319275.0</td>\n",
       "      <td>France</td>\n",
       "      <td>2017-05-11 19:57:00</td>\n",
       "      <td>2017-12-11 21:57:00</td>\n",
       "      <td>12727.0</td>\n",
       "      <td>147.0</td>\n",
       "      <td>trial_vip_popup</td>\n",
       "      <td>trial_premium</td>\n",
       "    </tr>\n",
       "    <tr>\n",
       "      <th>1</th>\n",
       "      <td>892421826.0</td>\n",
       "      <td>Israel</td>\n",
       "      <td>2017-10-14 12:46:00</td>\n",
       "      <td>2017-10-23 12:54:00</td>\n",
       "      <td>14586.0</td>\n",
       "      <td>147.0</td>\n",
       "      <td>trial_vip_popup</td>\n",
       "      <td>trial_premium</td>\n",
       "    </tr>\n",
       "    <tr>\n",
       "      <th>2</th>\n",
       "      <td>891822480.0</td>\n",
       "      <td>Italy</td>\n",
       "      <td>2017-10-26 22:27:00</td>\n",
       "      <td>2017-12-11 20:59:00</td>\n",
       "      <td>1911.0</td>\n",
       "      <td>19.0</td>\n",
       "      <td>none</td>\n",
       "      <td>coins</td>\n",
       "    </tr>\n",
       "    <tr>\n",
       "      <th>3</th>\n",
       "      <td>891367521.0</td>\n",
       "      <td>Italy</td>\n",
       "      <td>2017-05-11 02:37:00</td>\n",
       "      <td>2017-06-11 19:15:00</td>\n",
       "      <td>1456.0</td>\n",
       "      <td>127.0</td>\n",
       "      <td>sympathy</td>\n",
       "      <td>other_type</td>\n",
       "    </tr>\n",
       "    <tr>\n",
       "      <th>4</th>\n",
       "      <td>892207959.0</td>\n",
       "      <td>France</td>\n",
       "      <td>2017-10-18 18:30:00</td>\n",
       "      <td>2017-12-11 12:03:00</td>\n",
       "      <td>1261.0</td>\n",
       "      <td>19.0</td>\n",
       "      <td>empty_likes</td>\n",
       "      <td>coins</td>\n",
       "    </tr>\n",
       "    <tr>\n",
       "      <th>...</th>\n",
       "      <td>...</td>\n",
       "      <td>...</td>\n",
       "      <td>...</td>\n",
       "      <td>...</td>\n",
       "      <td>...</td>\n",
       "      <td>...</td>\n",
       "      <td>...</td>\n",
       "      <td>...</td>\n",
       "    </tr>\n",
       "    <tr>\n",
       "      <th>372</th>\n",
       "      <td>891556971.0</td>\n",
       "      <td>France</td>\n",
       "      <td>2017-01-11 05:07:00</td>\n",
       "      <td>2017-01-11 05:16:00</td>\n",
       "      <td>2886.0</td>\n",
       "      <td>68.0</td>\n",
       "      <td>none</td>\n",
       "      <td>premium_no_trial</td>\n",
       "    </tr>\n",
       "    <tr>\n",
       "      <th>373</th>\n",
       "      <td>892052106.0</td>\n",
       "      <td>Spain</td>\n",
       "      <td>2017-10-22 01:38:00</td>\n",
       "      <td>2017-10-29 03:44:00</td>\n",
       "      <td>12883.0</td>\n",
       "      <td>147.0</td>\n",
       "      <td>trial_vip_popup</td>\n",
       "      <td>trial_premium</td>\n",
       "    </tr>\n",
       "    <tr>\n",
       "      <th>374</th>\n",
       "      <td>892145004.0</td>\n",
       "      <td>Chile</td>\n",
       "      <td>2017-10-20 04:25:00</td>\n",
       "      <td>2017-01-11 02:56:00</td>\n",
       "      <td>9919.0</td>\n",
       "      <td>147.0</td>\n",
       "      <td>trial_vip_popup</td>\n",
       "      <td>trial_premium</td>\n",
       "    </tr>\n",
       "    <tr>\n",
       "      <th>375</th>\n",
       "      <td>891458229.0</td>\n",
       "      <td>Spain</td>\n",
       "      <td>2017-03-11 12:12:00</td>\n",
       "      <td>2017-04-11 03:43:00</td>\n",
       "      <td>6305.0</td>\n",
       "      <td>19.0</td>\n",
       "      <td>menu</td>\n",
       "      <td>coins</td>\n",
       "    </tr>\n",
       "    <tr>\n",
       "      <th>376</th>\n",
       "      <td>891466989.0</td>\n",
       "      <td>United States of America</td>\n",
       "      <td>2017-03-11 07:08:00</td>\n",
       "      <td>2017-03-11 07:56:00</td>\n",
       "      <td>6292.0</td>\n",
       "      <td>147.0</td>\n",
       "      <td>autoreply_message</td>\n",
       "      <td>premium_no_trial</td>\n",
       "    </tr>\n",
       "  </tbody>\n",
       "</table>\n",
       "<p>377 rows × 8 columns</p>\n",
       "</div>"
      ],
      "text/plain": [
       "             uid                   country           joined_at  \\\n",
       "0    891319275.0                    France 2017-05-11 19:57:00   \n",
       "1    892421826.0                    Israel 2017-10-14 12:46:00   \n",
       "2    891822480.0                     Italy 2017-10-26 22:27:00   \n",
       "3    891367521.0                     Italy 2017-05-11 02:37:00   \n",
       "4    892207959.0                    France 2017-10-18 18:30:00   \n",
       "..           ...                       ...                 ...   \n",
       "372  891556971.0                    France 2017-01-11 05:07:00   \n",
       "373  892052106.0                     Spain 2017-10-22 01:38:00   \n",
       "374  892145004.0                     Chile 2017-10-20 04:25:00   \n",
       "375  891458229.0                     Spain 2017-03-11 12:12:00   \n",
       "376  891466989.0  United States of America 2017-03-11 07:08:00   \n",
       "\n",
       "                paid_at  revenue  payment_id          from_page  \\\n",
       "0   2017-12-11 21:57:00  12727.0       147.0    trial_vip_popup   \n",
       "1   2017-10-23 12:54:00  14586.0       147.0    trial_vip_popup   \n",
       "2   2017-12-11 20:59:00   1911.0        19.0               none   \n",
       "3   2017-06-11 19:15:00   1456.0       127.0           sympathy   \n",
       "4   2017-12-11 12:03:00   1261.0        19.0        empty_likes   \n",
       "..                  ...      ...         ...                ...   \n",
       "372 2017-01-11 05:16:00   2886.0        68.0               none   \n",
       "373 2017-10-29 03:44:00  12883.0       147.0    trial_vip_popup   \n",
       "374 2017-01-11 02:56:00   9919.0       147.0    trial_vip_popup   \n",
       "375 2017-04-11 03:43:00   6305.0        19.0               menu   \n",
       "376 2017-03-11 07:56:00   6292.0       147.0  autoreply_message   \n",
       "\n",
       "         product_type  \n",
       "0       trial_premium  \n",
       "1       trial_premium  \n",
       "2               coins  \n",
       "3          other_type  \n",
       "4               coins  \n",
       "..                ...  \n",
       "372  premium_no_trial  \n",
       "373     trial_premium  \n",
       "374     trial_premium  \n",
       "375             coins  \n",
       "376  premium_no_trial  \n",
       "\n",
       "[377 rows x 8 columns]"
      ]
     },
     "metadata": {},
     "output_type": "display_data"
    },
    {
     "data": {
      "text/html": [
       "<div>\n",
       "<style scoped>\n",
       "    .dataframe tbody tr th:only-of-type {\n",
       "        vertical-align: middle;\n",
       "    }\n",
       "\n",
       "    .dataframe tbody tr th {\n",
       "        vertical-align: top;\n",
       "    }\n",
       "\n",
       "    .dataframe thead th {\n",
       "        text-align: right;\n",
       "    }\n",
       "</style>\n",
       "<table border=\"1\" class=\"dataframe\">\n",
       "  <thead>\n",
       "    <tr style=\"text-align: right;\">\n",
       "      <th></th>\n",
       "      <th>uid</th>\n",
       "      <th>age</th>\n",
       "      <th>attraction_coeff</th>\n",
       "      <th>coins</th>\n",
       "      <th>country</th>\n",
       "      <th>visit_days</th>\n",
       "      <th>gender</th>\n",
       "      <th>age_filter_start</th>\n",
       "      <th>age_filter_end</th>\n",
       "      <th>views_count</th>\n",
       "      <th>was_premium</th>\n",
       "      <th>is_premium</th>\n",
       "      <th>total_revenue</th>\n",
       "    </tr>\n",
       "  </thead>\n",
       "  <tbody>\n",
       "    <tr>\n",
       "      <th>0</th>\n",
       "      <td>892319115</td>\n",
       "      <td>25</td>\n",
       "      <td>435</td>\n",
       "      <td>NaN</td>\n",
       "      <td>United States of America</td>\n",
       "      <td>1,2,3,4,5,6</td>\n",
       "      <td>0</td>\n",
       "      <td>22</td>\n",
       "      <td>32</td>\n",
       "      <td>982</td>\n",
       "      <td>NaN</td>\n",
       "      <td>NaN</td>\n",
       "      <td>0</td>\n",
       "    </tr>\n",
       "    <tr>\n",
       "      <th>1</th>\n",
       "      <td>891248523</td>\n",
       "      <td>29</td>\n",
       "      <td>500</td>\n",
       "      <td>NaN</td>\n",
       "      <td>United States of America</td>\n",
       "      <td>1,2</td>\n",
       "      <td>1</td>\n",
       "      <td>26</td>\n",
       "      <td>32</td>\n",
       "      <td>12</td>\n",
       "      <td>NaN</td>\n",
       "      <td>NaN</td>\n",
       "      <td>0</td>\n",
       "    </tr>\n",
       "    <tr>\n",
       "      <th>2</th>\n",
       "      <td>891670932</td>\n",
       "      <td>33</td>\n",
       "      <td>800</td>\n",
       "      <td>NaN</td>\n",
       "      <td>France</td>\n",
       "      <td>1,2,3,5,6,8,9,11,13,16</td>\n",
       "      <td>1</td>\n",
       "      <td>30</td>\n",
       "      <td>36</td>\n",
       "      <td>5</td>\n",
       "      <td>NaN</td>\n",
       "      <td>NaN</td>\n",
       "      <td>0</td>\n",
       "    </tr>\n",
       "    <tr>\n",
       "      <th>3</th>\n",
       "      <td>891060786</td>\n",
       "      <td>26</td>\n",
       "      <td>0</td>\n",
       "      <td>NaN</td>\n",
       "      <td>Argentina</td>\n",
       "      <td>1,2,3,4,5</td>\n",
       "      <td>1</td>\n",
       "      <td>23</td>\n",
       "      <td>29</td>\n",
       "      <td>0</td>\n",
       "      <td>NaN</td>\n",
       "      <td>NaN</td>\n",
       "      <td>0</td>\n",
       "    </tr>\n",
       "    <tr>\n",
       "      <th>4</th>\n",
       "      <td>892006554</td>\n",
       "      <td>35</td>\n",
       "      <td>294</td>\n",
       "      <td>NaN</td>\n",
       "      <td>United States of America</td>\n",
       "      <td>1,2,3,5,6,7,8,9,10,12,15,16,17,19</td>\n",
       "      <td>1</td>\n",
       "      <td>30</td>\n",
       "      <td>40</td>\n",
       "      <td>17</td>\n",
       "      <td>NaN</td>\n",
       "      <td>NaN</td>\n",
       "      <td>0</td>\n",
       "    </tr>\n",
       "    <tr>\n",
       "      <th>...</th>\n",
       "      <td>...</td>\n",
       "      <td>...</td>\n",
       "      <td>...</td>\n",
       "      <td>...</td>\n",
       "      <td>...</td>\n",
       "      <td>...</td>\n",
       "      <td>...</td>\n",
       "      <td>...</td>\n",
       "      <td>...</td>\n",
       "      <td>...</td>\n",
       "      <td>...</td>\n",
       "      <td>...</td>\n",
       "      <td>...</td>\n",
       "    </tr>\n",
       "    <tr>\n",
       "      <th>4335</th>\n",
       "      <td>892022304</td>\n",
       "      <td>26</td>\n",
       "      <td>227</td>\n",
       "      <td>NaN</td>\n",
       "      <td>United States of America</td>\n",
       "      <td>&lt;NA&gt;</td>\n",
       "      <td>0</td>\n",
       "      <td>23</td>\n",
       "      <td>29</td>\n",
       "      <td>427</td>\n",
       "      <td>NaN</td>\n",
       "      <td>NaN</td>\n",
       "      <td>0</td>\n",
       "    </tr>\n",
       "    <tr>\n",
       "      <th>4336</th>\n",
       "      <td>891905022</td>\n",
       "      <td>38</td>\n",
       "      <td>200</td>\n",
       "      <td>NaN</td>\n",
       "      <td>Argentina</td>\n",
       "      <td>1,2,3,4,5,6,7,8,9,10,11,13,14,15,16,21</td>\n",
       "      <td>1</td>\n",
       "      <td>20</td>\n",
       "      <td>50</td>\n",
       "      <td>5</td>\n",
       "      <td>NaN</td>\n",
       "      <td>NaN</td>\n",
       "      <td>0</td>\n",
       "    </tr>\n",
       "    <tr>\n",
       "      <th>4337</th>\n",
       "      <td>891304722</td>\n",
       "      <td>49</td>\n",
       "      <td>411</td>\n",
       "      <td>NaN</td>\n",
       "      <td>United States of America</td>\n",
       "      <td>1</td>\n",
       "      <td>1</td>\n",
       "      <td>46</td>\n",
       "      <td>52</td>\n",
       "      <td>17</td>\n",
       "      <td>NaN</td>\n",
       "      <td>NaN</td>\n",
       "      <td>0</td>\n",
       "    </tr>\n",
       "    <tr>\n",
       "      <th>4338</th>\n",
       "      <td>891302328</td>\n",
       "      <td>27</td>\n",
       "      <td>0</td>\n",
       "      <td>NaN</td>\n",
       "      <td>United States of America</td>\n",
       "      <td>1,3,5</td>\n",
       "      <td>1</td>\n",
       "      <td>24</td>\n",
       "      <td>30</td>\n",
       "      <td>0</td>\n",
       "      <td>NaN</td>\n",
       "      <td>NaN</td>\n",
       "      <td>0</td>\n",
       "    </tr>\n",
       "    <tr>\n",
       "      <th>4339</th>\n",
       "      <td>891182532</td>\n",
       "      <td>31</td>\n",
       "      <td>1000</td>\n",
       "      <td>NaN</td>\n",
       "      <td>United States of America</td>\n",
       "      <td>1</td>\n",
       "      <td>1</td>\n",
       "      <td>19</td>\n",
       "      <td>34</td>\n",
       "      <td>2</td>\n",
       "      <td>NaN</td>\n",
       "      <td>NaN</td>\n",
       "      <td>0</td>\n",
       "    </tr>\n",
       "  </tbody>\n",
       "</table>\n",
       "<p>4340 rows × 13 columns</p>\n",
       "</div>"
      ],
      "text/plain": [
       "            uid  age  attraction_coeff  coins                   country  \\\n",
       "0     892319115   25               435    NaN  United States of America   \n",
       "1     891248523   29               500    NaN  United States of America   \n",
       "2     891670932   33               800    NaN                    France   \n",
       "3     891060786   26                 0    NaN                 Argentina   \n",
       "4     892006554   35               294    NaN  United States of America   \n",
       "...         ...  ...               ...    ...                       ...   \n",
       "4335  892022304   26               227    NaN  United States of America   \n",
       "4336  891905022   38               200    NaN                 Argentina   \n",
       "4337  891304722   49               411    NaN  United States of America   \n",
       "4338  891302328   27                 0    NaN  United States of America   \n",
       "4339  891182532   31              1000    NaN  United States of America   \n",
       "\n",
       "                                  visit_days  gender  age_filter_start  \\\n",
       "0                                1,2,3,4,5,6       0                22   \n",
       "1                                        1,2       1                26   \n",
       "2                     1,2,3,5,6,8,9,11,13,16       1                30   \n",
       "3                                  1,2,3,4,5       1                23   \n",
       "4          1,2,3,5,6,7,8,9,10,12,15,16,17,19       1                30   \n",
       "...                                      ...     ...               ...   \n",
       "4335                                    <NA>       0                23   \n",
       "4336  1,2,3,4,5,6,7,8,9,10,11,13,14,15,16,21       1                20   \n",
       "4337                                       1       1                46   \n",
       "4338                                   1,3,5       1                24   \n",
       "4339                                       1       1                19   \n",
       "\n",
       "      age_filter_end  views_count  was_premium  is_premium  total_revenue  \n",
       "0                 32          982          NaN         NaN              0  \n",
       "1                 32           12          NaN         NaN              0  \n",
       "2                 36            5          NaN         NaN              0  \n",
       "3                 29            0          NaN         NaN              0  \n",
       "4                 40           17          NaN         NaN              0  \n",
       "...              ...          ...          ...         ...            ...  \n",
       "4335              29          427          NaN         NaN              0  \n",
       "4336              50            5          NaN         NaN              0  \n",
       "4337              52           17          NaN         NaN              0  \n",
       "4338              30            0          NaN         NaN              0  \n",
       "4339              34            2          NaN         NaN              0  \n",
       "\n",
       "[4340 rows x 13 columns]"
      ]
     },
     "metadata": {},
     "output_type": "display_data"
    }
   ],
   "source": [
    "# View data\n",
    "display(transactions_A1, users_A1)"
   ]
  },
  {
   "cell_type": "code",
   "execution_count": 79,
   "id": "52e761bd",
   "metadata": {
    "scrolled": false
   },
   "outputs": [
    {
     "data": {
      "text/plain": [
       "1"
      ]
     },
     "execution_count": 79,
     "metadata": {},
     "output_type": "execute_result"
    }
   ],
   "source": [
    "# Check what is NaN\n",
    "users_A1.coins.value_counts().min()"
   ]
  },
  {
   "cell_type": "code",
   "execution_count": 80,
   "id": "473eb64f",
   "metadata": {},
   "outputs": [
    {
     "data": {
      "text/plain": [
       "1.0    436\n",
       "Name: was_premium, dtype: int64"
      ]
     },
     "execution_count": 80,
     "metadata": {},
     "output_type": "execute_result"
    }
   ],
   "source": [
    "users_A1.was_premium.value_counts()"
   ]
  },
  {
   "cell_type": "code",
   "execution_count": 81,
   "id": "5519e940",
   "metadata": {},
   "outputs": [],
   "source": [
    "# coins NaN to 0\n",
    "users_A1['coins'] = users_A1['coins'].fillna(0)\n",
    "users_A2['coins'] = users_A2['coins'].fillna(0)\n",
    "users_B['coins'] = users_B['coins'].fillna(0)"
   ]
  },
  {
   "cell_type": "code",
   "execution_count": 82,
   "id": "fe831b67",
   "metadata": {},
   "outputs": [],
   "source": [
    "# was_premium and is_premium NaN to 0\n",
    "users_A1['was_premium'] = users_A1['was_premium'].fillna(0)\n",
    "users_A2['was_premium'] = users_A2['was_premium'].fillna(0)\n",
    "users_B['was_premium'] = users_B['was_premium'].fillna(0)\n",
    "\n",
    "users_A1['is_premium'] = users_A1['is_premium'].fillna(0)\n",
    "users_A2['is_premium'] = users_A2['is_premium'].fillna(0)\n",
    "users_B['is_premium'] = users_B['is_premium'].fillna(0)"
   ]
  },
  {
   "cell_type": "markdown",
   "id": "70806fa2",
   "metadata": {},
   "source": [
    "#### Outliers"
   ]
  },
  {
   "cell_type": "code",
   "execution_count": 84,
   "id": "172b11f3",
   "metadata": {
    "scrolled": false
   },
   "outputs": [
    {
     "data": {
      "image/png": "[encoded data removed]",
      "text/plain": [
       "<Figure size 432x288 with 1 Axes>"
      ]
     },
     "metadata": {},
     "output_type": "display_data"
    }
   ],
   "source": [
    "# Check for outliers in users.total_revenue\n",
    "users_A1 = users_A1.assign(Group=\"A1\")\n",
    "users_A2 = users_A2.assign(Group=\"A2\")\n",
    "users_B = users_B.assign(Group=\"B\")\n",
    "\n",
    "# New dataframe Groups 3in1\n",
    "u = pd.concat([users_A1, users_A2, users_B])\n",
    "\n",
    "sns.boxplot(x=\"Group\", y=\"total_revenue\", data=u).set_title('Total Revenue')\n",
    "sns.despine()"
   ]
  },
  {
   "cell_type": "code",
   "execution_count": 85,
   "id": "569d41fa",
   "metadata": {
    "scrolled": true
   },
   "outputs": [
    {
     "data": {
      "text/html": [
       "<div>\n",
       "<style scoped>\n",
       "    .dataframe tbody tr th:only-of-type {\n",
       "        vertical-align: middle;\n",
       "    }\n",
       "\n",
       "    .dataframe tbody tr th {\n",
       "        vertical-align: top;\n",
       "    }\n",
       "\n",
       "    .dataframe thead th {\n",
       "        text-align: right;\n",
       "    }\n",
       "</style>\n",
       "<table border=\"1\" class=\"dataframe\">\n",
       "  <thead>\n",
       "    <tr style=\"text-align: right;\">\n",
       "      <th></th>\n",
       "      <th>uid</th>\n",
       "      <th>age</th>\n",
       "      <th>attraction_coeff</th>\n",
       "      <th>coins</th>\n",
       "      <th>country</th>\n",
       "      <th>visit_days</th>\n",
       "      <th>gender</th>\n",
       "      <th>age_filter_start</th>\n",
       "      <th>age_filter_end</th>\n",
       "      <th>views_count</th>\n",
       "      <th>was_premium</th>\n",
       "      <th>is_premium</th>\n",
       "      <th>total_revenue</th>\n",
       "      <th>Group</th>\n",
       "    </tr>\n",
       "  </thead>\n",
       "  <tbody>\n",
       "    <tr>\n",
       "      <th>1427</th>\n",
       "      <td>892333905</td>\n",
       "      <td>22</td>\n",
       "      <td>175</td>\n",
       "      <td>3608.0</td>\n",
       "      <td>Italy</td>\n",
       "      <td>1,2,3,4,5,6,7,15</td>\n",
       "      <td>1</td>\n",
       "      <td>19</td>\n",
       "      <td>25</td>\n",
       "      <td>575</td>\n",
       "      <td>1.0</td>\n",
       "      <td>1.0</td>\n",
       "      <td>486330</td>\n",
       "      <td>A1</td>\n",
       "    </tr>\n",
       "  </tbody>\n",
       "</table>\n",
       "</div>"
      ],
      "text/plain": [
       "            uid  age  attraction_coeff   coins country        visit_days  \\\n",
       "1427  892333905   22               175  3608.0   Italy  1,2,3,4,5,6,7,15   \n",
       "\n",
       "      gender  age_filter_start  age_filter_end  views_count  was_premium  \\\n",
       "1427       1                19              25          575          1.0   \n",
       "\n",
       "      is_premium  total_revenue Group  \n",
       "1427         1.0         486330    A1  "
      ]
     },
     "execution_count": 85,
     "metadata": {},
     "output_type": "execute_result"
    }
   ],
   "source": [
    "# check extreme values profile. id 892333905\n",
    "users_A1.query('total_revenue >200000')"
   ]
  },
  {
   "cell_type": "code",
   "execution_count": 86,
   "id": "599e6364",
   "metadata": {},
   "outputs": [
    {
     "data": {
      "text/html": [
       "<div>\n",
       "<style scoped>\n",
       "    .dataframe tbody tr th:only-of-type {\n",
       "        vertical-align: middle;\n",
       "    }\n",
       "\n",
       "    .dataframe tbody tr th {\n",
       "        vertical-align: top;\n",
       "    }\n",
       "\n",
       "    .dataframe thead th {\n",
       "        text-align: right;\n",
       "    }\n",
       "</style>\n",
       "<table border=\"1\" class=\"dataframe\">\n",
       "  <thead>\n",
       "    <tr style=\"text-align: right;\">\n",
       "      <th></th>\n",
       "      <th>uid</th>\n",
       "      <th>country</th>\n",
       "      <th>joined_at</th>\n",
       "      <th>paid_at</th>\n",
       "      <th>revenue</th>\n",
       "      <th>payment_id</th>\n",
       "      <th>from_page</th>\n",
       "      <th>product_type</th>\n",
       "    </tr>\n",
       "  </thead>\n",
       "  <tbody>\n",
       "    <tr>\n",
       "      <th>49</th>\n",
       "      <td>892333905.0</td>\n",
       "      <td>Italy</td>\n",
       "      <td>2017-10-16 01:38:00</td>\n",
       "      <td>2017-10-16 01:42:00</td>\n",
       "      <td>3783.0</td>\n",
       "      <td>67.0</td>\n",
       "      <td>menu</td>\n",
       "      <td>other_type</td>\n",
       "    </tr>\n",
       "    <tr>\n",
       "      <th>13</th>\n",
       "      <td>892333905.0</td>\n",
       "      <td>Italy</td>\n",
       "      <td>2017-10-16 01:38:00</td>\n",
       "      <td>2017-10-16 01:44:00</td>\n",
       "      <td>3783.0</td>\n",
       "      <td>67.0</td>\n",
       "      <td>menu</td>\n",
       "      <td>other_type</td>\n",
       "    </tr>\n",
       "    <tr>\n",
       "      <th>47</th>\n",
       "      <td>892333905.0</td>\n",
       "      <td>Italy</td>\n",
       "      <td>2017-10-16 01:38:00</td>\n",
       "      <td>2017-10-16 01:44:00</td>\n",
       "      <td>3783.0</td>\n",
       "      <td>67.0</td>\n",
       "      <td>menu</td>\n",
       "      <td>other_type</td>\n",
       "    </tr>\n",
       "    <tr>\n",
       "      <th>169</th>\n",
       "      <td>892333905.0</td>\n",
       "      <td>Italy</td>\n",
       "      <td>2017-10-16 01:38:00</td>\n",
       "      <td>2017-10-16 01:44:00</td>\n",
       "      <td>3783.0</td>\n",
       "      <td>67.0</td>\n",
       "      <td>menu</td>\n",
       "      <td>other_type</td>\n",
       "    </tr>\n",
       "    <tr>\n",
       "      <th>28</th>\n",
       "      <td>892333905.0</td>\n",
       "      <td>Italy</td>\n",
       "      <td>2017-10-16 01:38:00</td>\n",
       "      <td>2017-10-16 01:57:00</td>\n",
       "      <td>3783.0</td>\n",
       "      <td>67.0</td>\n",
       "      <td>empty_admins</td>\n",
       "      <td>other_type</td>\n",
       "    </tr>\n",
       "    <tr>\n",
       "      <th>296</th>\n",
       "      <td>892333905.0</td>\n",
       "      <td>Italy</td>\n",
       "      <td>2017-10-16 01:38:00</td>\n",
       "      <td>2017-10-16 01:57:00</td>\n",
       "      <td>3783.0</td>\n",
       "      <td>67.0</td>\n",
       "      <td>empty_admins</td>\n",
       "      <td>other_type</td>\n",
       "    </tr>\n",
       "    <tr>\n",
       "      <th>43</th>\n",
       "      <td>892333905.0</td>\n",
       "      <td>Italy</td>\n",
       "      <td>2017-10-16 01:38:00</td>\n",
       "      <td>2017-10-16 01:58:00</td>\n",
       "      <td>3783.0</td>\n",
       "      <td>67.0</td>\n",
       "      <td>empty_admins</td>\n",
       "      <td>other_type</td>\n",
       "    </tr>\n",
       "    <tr>\n",
       "      <th>198</th>\n",
       "      <td>892333905.0</td>\n",
       "      <td>Italy</td>\n",
       "      <td>2017-10-16 01:38:00</td>\n",
       "      <td>2017-10-16 01:58:00</td>\n",
       "      <td>3783.0</td>\n",
       "      <td>67.0</td>\n",
       "      <td>empty_admins</td>\n",
       "      <td>other_type</td>\n",
       "    </tr>\n",
       "    <tr>\n",
       "      <th>88</th>\n",
       "      <td>892333905.0</td>\n",
       "      <td>Italy</td>\n",
       "      <td>2017-10-16 01:38:00</td>\n",
       "      <td>2017-10-16 01:58:00</td>\n",
       "      <td>3783.0</td>\n",
       "      <td>67.0</td>\n",
       "      <td>empty_admins</td>\n",
       "      <td>other_type</td>\n",
       "    </tr>\n",
       "    <tr>\n",
       "      <th>6</th>\n",
       "      <td>892333905.0</td>\n",
       "      <td>Italy</td>\n",
       "      <td>2017-10-16 01:38:00</td>\n",
       "      <td>2017-10-16 02:08:00</td>\n",
       "      <td>12610.0</td>\n",
       "      <td>19.0</td>\n",
       "      <td>gifts</td>\n",
       "      <td>coins</td>\n",
       "    </tr>\n",
       "    <tr>\n",
       "      <th>149</th>\n",
       "      <td>892333905.0</td>\n",
       "      <td>Italy</td>\n",
       "      <td>2017-10-16 01:38:00</td>\n",
       "      <td>2017-10-16 02:08:00</td>\n",
       "      <td>1261.0</td>\n",
       "      <td>19.0</td>\n",
       "      <td>gifts</td>\n",
       "      <td>coins</td>\n",
       "    </tr>\n",
       "    <tr>\n",
       "      <th>289</th>\n",
       "      <td>892333905.0</td>\n",
       "      <td>Italy</td>\n",
       "      <td>2017-10-16 01:38:00</td>\n",
       "      <td>2017-10-16 02:08:00</td>\n",
       "      <td>3783.0</td>\n",
       "      <td>67.0</td>\n",
       "      <td>gifts</td>\n",
       "      <td>other_type</td>\n",
       "    </tr>\n",
       "    <tr>\n",
       "      <th>137</th>\n",
       "      <td>892333905.0</td>\n",
       "      <td>Italy</td>\n",
       "      <td>2017-10-16 01:38:00</td>\n",
       "      <td>2017-10-16 02:08:00</td>\n",
       "      <td>31525.0</td>\n",
       "      <td>19.0</td>\n",
       "      <td>gifts</td>\n",
       "      <td>coins</td>\n",
       "    </tr>\n",
       "    <tr>\n",
       "      <th>274</th>\n",
       "      <td>892333905.0</td>\n",
       "      <td>Italy</td>\n",
       "      <td>2017-10-16 01:38:00</td>\n",
       "      <td>2017-10-16 02:08:00</td>\n",
       "      <td>1261.0</td>\n",
       "      <td>19.0</td>\n",
       "      <td>gifts</td>\n",
       "      <td>coins</td>\n",
       "    </tr>\n",
       "    <tr>\n",
       "      <th>297</th>\n",
       "      <td>892333905.0</td>\n",
       "      <td>Italy</td>\n",
       "      <td>2017-10-16 01:38:00</td>\n",
       "      <td>2017-10-16 02:26:00</td>\n",
       "      <td>31525.0</td>\n",
       "      <td>19.0</td>\n",
       "      <td>menu</td>\n",
       "      <td>coins</td>\n",
       "    </tr>\n",
       "    <tr>\n",
       "      <th>304</th>\n",
       "      <td>892333905.0</td>\n",
       "      <td>Italy</td>\n",
       "      <td>2017-10-16 01:38:00</td>\n",
       "      <td>2017-10-16 02:26:00</td>\n",
       "      <td>31525.0</td>\n",
       "      <td>19.0</td>\n",
       "      <td>menu</td>\n",
       "      <td>coins</td>\n",
       "    </tr>\n",
       "    <tr>\n",
       "      <th>316</th>\n",
       "      <td>892333905.0</td>\n",
       "      <td>Italy</td>\n",
       "      <td>2017-10-16 01:38:00</td>\n",
       "      <td>2017-10-16 02:52:00</td>\n",
       "      <td>31525.0</td>\n",
       "      <td>19.0</td>\n",
       "      <td>menu</td>\n",
       "      <td>coins</td>\n",
       "    </tr>\n",
       "    <tr>\n",
       "      <th>306</th>\n",
       "      <td>892333905.0</td>\n",
       "      <td>Italy</td>\n",
       "      <td>2017-10-16 01:38:00</td>\n",
       "      <td>2017-10-16 10:24:00</td>\n",
       "      <td>31525.0</td>\n",
       "      <td>19.0</td>\n",
       "      <td>menu</td>\n",
       "      <td>coins</td>\n",
       "    </tr>\n",
       "    <tr>\n",
       "      <th>143</th>\n",
       "      <td>892333905.0</td>\n",
       "      <td>Italy</td>\n",
       "      <td>2017-10-16 01:38:00</td>\n",
       "      <td>2017-10-16 13:10:00</td>\n",
       "      <td>63037.0</td>\n",
       "      <td>147.0</td>\n",
       "      <td>no_sympathy</td>\n",
       "      <td>premium_no_trial</td>\n",
       "    </tr>\n",
       "    <tr>\n",
       "      <th>359</th>\n",
       "      <td>892333905.0</td>\n",
       "      <td>Italy</td>\n",
       "      <td>2017-10-16 01:38:00</td>\n",
       "      <td>2017-10-16 18:42:00</td>\n",
       "      <td>31525.0</td>\n",
       "      <td>19.0</td>\n",
       "      <td>fans</td>\n",
       "      <td>coins</td>\n",
       "    </tr>\n",
       "    <tr>\n",
       "      <th>76</th>\n",
       "      <td>892333905.0</td>\n",
       "      <td>Italy</td>\n",
       "      <td>2017-10-16 01:38:00</td>\n",
       "      <td>2017-10-16 18:42:00</td>\n",
       "      <td>31525.0</td>\n",
       "      <td>19.0</td>\n",
       "      <td>fans</td>\n",
       "      <td>coins</td>\n",
       "    </tr>\n",
       "    <tr>\n",
       "      <th>63</th>\n",
       "      <td>892333905.0</td>\n",
       "      <td>Italy</td>\n",
       "      <td>2017-10-16 01:38:00</td>\n",
       "      <td>2017-10-16 22:35:00</td>\n",
       "      <td>31525.0</td>\n",
       "      <td>19.0</td>\n",
       "      <td>menu</td>\n",
       "      <td>coins</td>\n",
       "    </tr>\n",
       "    <tr>\n",
       "      <th>126</th>\n",
       "      <td>892333905.0</td>\n",
       "      <td>Italy</td>\n",
       "      <td>2017-10-16 01:38:00</td>\n",
       "      <td>2017-10-16 22:39:00</td>\n",
       "      <td>19773.0</td>\n",
       "      <td>146.0</td>\n",
       "      <td>menu</td>\n",
       "      <td>coins</td>\n",
       "    </tr>\n",
       "    <tr>\n",
       "      <th>256</th>\n",
       "      <td>892333905.0</td>\n",
       "      <td>Italy</td>\n",
       "      <td>2017-10-16 01:38:00</td>\n",
       "      <td>2017-10-17 00:40:00</td>\n",
       "      <td>31525.0</td>\n",
       "      <td>19.0</td>\n",
       "      <td>menu</td>\n",
       "      <td>coins</td>\n",
       "    </tr>\n",
       "    <tr>\n",
       "      <th>358</th>\n",
       "      <td>892333905.0</td>\n",
       "      <td>Italy</td>\n",
       "      <td>2017-10-16 01:38:00</td>\n",
       "      <td>2017-10-17 02:23:00</td>\n",
       "      <td>3783.0</td>\n",
       "      <td>67.0</td>\n",
       "      <td>menu</td>\n",
       "      <td>other_type</td>\n",
       "    </tr>\n",
       "    <tr>\n",
       "      <th>166</th>\n",
       "      <td>892333905.0</td>\n",
       "      <td>Italy</td>\n",
       "      <td>2017-10-16 01:38:00</td>\n",
       "      <td>2017-10-17 02:23:00</td>\n",
       "      <td>31525.0</td>\n",
       "      <td>19.0</td>\n",
       "      <td>menu</td>\n",
       "      <td>coins</td>\n",
       "    </tr>\n",
       "    <tr>\n",
       "      <th>335</th>\n",
       "      <td>892333905.0</td>\n",
       "      <td>Italy</td>\n",
       "      <td>2017-10-16 01:38:00</td>\n",
       "      <td>2017-10-17 20:53:00</td>\n",
       "      <td>31525.0</td>\n",
       "      <td>19.0</td>\n",
       "      <td>menu</td>\n",
       "      <td>coins</td>\n",
       "    </tr>\n",
       "  </tbody>\n",
       "</table>\n",
       "</div>"
      ],
      "text/plain": [
       "             uid country           joined_at             paid_at  revenue  \\\n",
       "49   892333905.0   Italy 2017-10-16 01:38:00 2017-10-16 01:42:00   3783.0   \n",
       "13   892333905.0   Italy 2017-10-16 01:38:00 2017-10-16 01:44:00   3783.0   \n",
       "47   892333905.0   Italy 2017-10-16 01:38:00 2017-10-16 01:44:00   3783.0   \n",
       "169  892333905.0   Italy 2017-10-16 01:38:00 2017-10-16 01:44:00   3783.0   \n",
       "28   892333905.0   Italy 2017-10-16 01:38:00 2017-10-16 01:57:00   3783.0   \n",
       "296  892333905.0   Italy 2017-10-16 01:38:00 2017-10-16 01:57:00   3783.0   \n",
       "43   892333905.0   Italy 2017-10-16 01:38:00 2017-10-16 01:58:00   3783.0   \n",
       "198  892333905.0   Italy 2017-10-16 01:38:00 2017-10-16 01:58:00   3783.0   \n",
       "88   892333905.0   Italy 2017-10-16 01:38:00 2017-10-16 01:58:00   3783.0   \n",
       "6    892333905.0   Italy 2017-10-16 01:38:00 2017-10-16 02:08:00  12610.0   \n",
       "149  892333905.0   Italy 2017-10-16 01:38:00 2017-10-16 02:08:00   1261.0   \n",
       "289  892333905.0   Italy 2017-10-16 01:38:00 2017-10-16 02:08:00   3783.0   \n",
       "137  892333905.0   Italy 2017-10-16 01:38:00 2017-10-16 02:08:00  31525.0   \n",
       "274  892333905.0   Italy 2017-10-16 01:38:00 2017-10-16 02:08:00   1261.0   \n",
       "297  892333905.0   Italy 2017-10-16 01:38:00 2017-10-16 02:26:00  31525.0   \n",
       "304  892333905.0   Italy 2017-10-16 01:38:00 2017-10-16 02:26:00  31525.0   \n",
       "316  892333905.0   Italy 2017-10-16 01:38:00 2017-10-16 02:52:00  31525.0   \n",
       "306  892333905.0   Italy 2017-10-16 01:38:00 2017-10-16 10:24:00  31525.0   \n",
       "143  892333905.0   Italy 2017-10-16 01:38:00 2017-10-16 13:10:00  63037.0   \n",
       "359  892333905.0   Italy 2017-10-16 01:38:00 2017-10-16 18:42:00  31525.0   \n",
       "76   892333905.0   Italy 2017-10-16 01:38:00 2017-10-16 18:42:00  31525.0   \n",
       "63   892333905.0   Italy 2017-10-16 01:38:00 2017-10-16 22:35:00  31525.0   \n",
       "126  892333905.0   Italy 2017-10-16 01:38:00 2017-10-16 22:39:00  19773.0   \n",
       "256  892333905.0   Italy 2017-10-16 01:38:00 2017-10-17 00:40:00  31525.0   \n",
       "358  892333905.0   Italy 2017-10-16 01:38:00 2017-10-17 02:23:00   3783.0   \n",
       "166  892333905.0   Italy 2017-10-16 01:38:00 2017-10-17 02:23:00  31525.0   \n",
       "335  892333905.0   Italy 2017-10-16 01:38:00 2017-10-17 20:53:00  31525.0   \n",
       "\n",
       "     payment_id     from_page      product_type  \n",
       "49         67.0          menu        other_type  \n",
       "13         67.0          menu        other_type  \n",
       "47         67.0          menu        other_type  \n",
       "169        67.0          menu        other_type  \n",
       "28         67.0  empty_admins        other_type  \n",
       "296        67.0  empty_admins        other_type  \n",
       "43         67.0  empty_admins        other_type  \n",
       "198        67.0  empty_admins        other_type  \n",
       "88         67.0  empty_admins        other_type  \n",
       "6          19.0         gifts             coins  \n",
       "149        19.0         gifts             coins  \n",
       "289        67.0         gifts        other_type  \n",
       "137        19.0         gifts             coins  \n",
       "274        19.0         gifts             coins  \n",
       "297        19.0          menu             coins  \n",
       "304        19.0          menu             coins  \n",
       "316        19.0          menu             coins  \n",
       "306        19.0          menu             coins  \n",
       "143       147.0   no_sympathy  premium_no_trial  \n",
       "359        19.0          fans             coins  \n",
       "76         19.0          fans             coins  \n",
       "63         19.0          menu             coins  \n",
       "126       146.0          menu             coins  \n",
       "256        19.0          menu             coins  \n",
       "358        67.0          menu        other_type  \n",
       "166        19.0          menu             coins  \n",
       "335        19.0          menu             coins  "
      ]
     },
     "execution_count": 86,
     "metadata": {},
     "output_type": "execute_result"
    }
   ],
   "source": [
    "# check user id 892333905 transactions (revenue and dates)\n",
    "transactions_A1.query('uid == 892333905').sort_values(by='paid_at')"
   ]
  },
  {
   "cell_type": "code",
   "execution_count": 87,
   "id": "a78f87fa",
   "metadata": {},
   "outputs": [],
   "source": [
    "# Remove this outlier, user from users and transactions\n",
    "u = u.query('uid != 892333905')\n",
    "transactions_A1 = transactions_A1.query('uid != 892333905')"
   ]
  },
  {
   "cell_type": "code",
   "execution_count": 89,
   "id": "1c0e0699",
   "metadata": {
    "scrolled": false
   },
   "outputs": [
    {
     "data": {
      "image/png": "[encoded data removed]",
      "text/plain": [
       "<Figure size 432x288 with 1 Axes>"
      ]
     },
     "metadata": {},
     "output_type": "display_data"
    }
   ],
   "source": [
    "# boxplot of the new total_revenue\n",
    "sns.boxplot(x=\"Group\", y=\"total_revenue\", data=u).set_title('total_revenue')\n",
    "sns.despine()"
   ]
  },
  {
   "cell_type": "markdown",
   "id": "235d9847",
   "metadata": {},
   "source": [
    " *** \n",
    "## Part 1\n",
    "Verify if the test was conducted successfully.<br>\n",
    "Prior to A/B test run A/A test to assess if there is mismatch between Control and Treatment groups, which can affect the result. The idea is to accept the Null hypothesis that A1 = A2.  "
   ]
  },
  {
   "cell_type": "code",
   "execution_count": 90,
   "id": "a8aca5b5",
   "metadata": {},
   "outputs": [],
   "source": [
    "# New dfs for Paying Users\n",
    "uA1 = users_A1.query('total_revenue > 0')\n",
    "uA2 = users_A2.query('total_revenue > 0')\n",
    "uB = users_B.query('total_revenue > 0')"
   ]
  },
  {
   "cell_type": "markdown",
   "id": "5104b609",
   "metadata": {},
   "source": [
    "### Simulation of new A/A tests\n",
    "Use sampling without replacement and calculate p-values with t-test. We expect the resulting distribution of p-values be uniformly distributed. As such we calculate the FPR and check if it does not exceed α (0.05)."
   ]
  },
  {
   "cell_type": "code",
   "execution_count": 91,
   "id": "97767b8c",
   "metadata": {},
   "outputs": [
    {
     "data": {
      "image/png": "[encoded data removed]",
      "text/plain": [
       "<Figure size 432x288 with 1 Axes>"
      ]
     },
     "metadata": {},
     "output_type": "display_data"
    },
    {
     "name": "stdout",
     "output_type": "stream",
     "text": [
      "FPR 0.028\n"
     ]
    }
   ],
   "source": [
    "# Check Control A1 and Control A2 in A/A simulations using t-test\n",
    "simulations = 1000\n",
    "n_s = 40\n",
    "res = []\n",
    "\n",
    "sample_A1 = uA1.total_revenue\n",
    "sample_A2 = uA2.total_revenue\n",
    "\n",
    "# A/A subsampling\n",
    "for i in range(simulations):\n",
    "    s1 = sample_A1.sample(n_s, replace=False).values\n",
    "    s2 = sample_A2.sample(n_s, replace=False).values\n",
    "    res.append(stats.ttest_ind(s1, s2, equal_var=False)[1])\n",
    "\n",
    "plt.hist(res, bins=30)\n",
    "plt.style.use('ggplot')\n",
    "plt.xlabel('pvalues')\n",
    "plt.ylabel('frequency')\n",
    "plt.title(\"Histogram of ttest A/A simulations \")\n",
    "plt.show()\n",
    "\n",
    "# Check if FPR < α\n",
    "print('FPR', sum(np.array(res) < 0.05) / simulations)"
   ]
  },
  {
   "cell_type": "markdown",
   "id": "2eac44f5",
   "metadata": {},
   "source": [
    "### A/B test results analysis - Hypothesis testing "
   ]
  },
  {
   "cell_type": "markdown",
   "id": "1616c4fc",
   "metadata": {},
   "source": [
    "To compare groups using Student's t-test first apply Shapiro–Wilk test to check for normality of sample distributions. In case requirements are not met  the distributions of the total_revenues are log-transformed. Alternatively bootstrap method is used."
   ]
  },
  {
   "cell_type": "code",
   "execution_count": 92,
   "id": "1e6e44f1",
   "metadata": {
    "scrolled": true
   },
   "outputs": [
    {
     "data": {
      "text/html": [
       "<style  type=\"text/css\" >\n",
       "#T_7ac4f_row0_col1,#T_7ac4f_row1_col1,#T_7ac4f_row2_col1{\n",
       "            background-color:  #efdecd;\n",
       "        }</style><table id=\"T_7ac4f_\" ><thead>    <tr>        <th class=\"blank level0\" ></th>        <th class=\"col_heading level0 col0\" >count</th>        <th class=\"col_heading level0 col1\" >mean</th>        <th class=\"col_heading level0 col2\" >std</th>        <th class=\"col_heading level0 col3\" >min</th>        <th class=\"col_heading level0 col4\" >25%</th>        <th class=\"col_heading level0 col5\" >50%</th>        <th class=\"col_heading level0 col6\" >75%</th>        <th class=\"col_heading level0 col7\" >max</th>    </tr>    <tr>        <th class=\"index_name level0\" >Group</th>        <th class=\"blank\" ></th>        <th class=\"blank\" ></th>        <th class=\"blank\" ></th>        <th class=\"blank\" ></th>        <th class=\"blank\" ></th>        <th class=\"blank\" ></th>        <th class=\"blank\" ></th>        <th class=\"blank\" ></th>    </tr></thead><tbody>\n",
       "                <tr>\n",
       "                        <th id=\"T_7ac4f_level0_row0\" class=\"row_heading level0 row0\" >A1</th>\n",
       "                        <td id=\"T_7ac4f_row0_col0\" class=\"data row0 col0\" >191.000000</td>\n",
       "                        <td id=\"T_7ac4f_row0_col1\" class=\"data row0 col1\" >10968.256545</td>\n",
       "                        <td id=\"T_7ac4f_row0_col2\" class=\"data row0 col2\" >9973.321815</td>\n",
       "                        <td id=\"T_7ac4f_row0_col3\" class=\"data row0 col3\" >26.000000</td>\n",
       "                        <td id=\"T_7ac4f_row0_col4\" class=\"data row0 col4\" >5973.500000</td>\n",
       "                        <td id=\"T_7ac4f_row0_col5\" class=\"data row0 col5\" >9139.000000</td>\n",
       "                        <td id=\"T_7ac4f_row0_col6\" class=\"data row0 col6\" >12870.000000</td>\n",
       "                        <td id=\"T_7ac4f_row0_col7\" class=\"data row0 col7\" >64298.000000</td>\n",
       "            </tr>\n",
       "            <tr>\n",
       "                        <th id=\"T_7ac4f_level0_row1\" class=\"row_heading level0 row1\" >A2</th>\n",
       "                        <td id=\"T_7ac4f_row1_col0\" class=\"data row1 col0\" >187.000000</td>\n",
       "                        <td id=\"T_7ac4f_row1_col1\" class=\"data row1 col1\" >10269.721925</td>\n",
       "                        <td id=\"T_7ac4f_row1_col2\" class=\"data row1 col2\" >9272.960475</td>\n",
       "                        <td id=\"T_7ac4f_row1_col3\" class=\"data row1 col3\" >481.000000</td>\n",
       "                        <td id=\"T_7ac4f_row1_col4\" class=\"data row1 col4\" >6064.500000</td>\n",
       "                        <td id=\"T_7ac4f_row1_col5\" class=\"data row1 col5\" >7969.000000</td>\n",
       "                        <td id=\"T_7ac4f_row1_col6\" class=\"data row1 col6\" >12727.000000</td>\n",
       "                        <td id=\"T_7ac4f_row1_col7\" class=\"data row1 col7\" >81796.000000</td>\n",
       "            </tr>\n",
       "            <tr>\n",
       "                        <th id=\"T_7ac4f_level0_row2\" class=\"row_heading level0 row2\" >B</th>\n",
       "                        <td id=\"T_7ac4f_row2_col0\" class=\"data row2 col0\" >146.000000</td>\n",
       "                        <td id=\"T_7ac4f_row2_col1\" class=\"data row2 col1\" >15759.027397</td>\n",
       "                        <td id=\"T_7ac4f_row2_col2\" class=\"data row2 col2\" >18058.118399</td>\n",
       "                        <td id=\"T_7ac4f_row2_col3\" class=\"data row2 col3\" >624.000000</td>\n",
       "                        <td id=\"T_7ac4f_row2_col4\" class=\"data row2 col4\" >8248.500000</td>\n",
       "                        <td id=\"T_7ac4f_row2_col5\" class=\"data row2 col5\" >12727.000000</td>\n",
       "                        <td id=\"T_7ac4f_row2_col6\" class=\"data row2 col6\" >16428.750000</td>\n",
       "                        <td id=\"T_7ac4f_row2_col7\" class=\"data row2 col7\" >129870.000000</td>\n",
       "            </tr>\n",
       "    </tbody></table>"
      ],
      "text/plain": [
       "<pandas.io.formats.style.Styler at 0x2b2aefe6ee0>"
      ]
     },
     "execution_count": 92,
     "metadata": {},
     "output_type": "execute_result"
    }
   ],
   "source": [
    "# Revenues from paying users in Groups:\n",
    "u.query('total_revenue > 0').groupby('Group').total_revenue.describe()  \\\n",
    "    .style.set_properties(**{'background-color': '#efdecd'}, subset=['mean'])"
   ]
  },
  {
   "cell_type": "code",
   "execution_count": 93,
   "id": "c9460c9e",
   "metadata": {},
   "outputs": [
    {
     "name": "stdout",
     "output_type": "stream",
     "text": [
      "ShapiroResult(statistic=0.17460763454437256, pvalue=2.655617133549436e-28),\n",
      "ShapiroResult(statistic=0.6258848905563354, pvalue=5.0175247612037996e-20),\n",
      "ShapiroResult(statistic=0.5494610071182251, pvalue=2.530081054497636e-19)\n"
     ]
    }
   ],
   "source": [
    "# Normality test\n",
    "print(f'{stats.shapiro(uA1.total_revenue)},\\n{stats.shapiro(uA2.total_revenue)},\\n{stats.shapiro(uB.total_revenue)}')"
   ]
  },
  {
   "cell_type": "code",
   "execution_count": 94,
   "id": "620ff62c",
   "metadata": {},
   "outputs": [
    {
     "data": {
      "text/plain": [
       "<seaborn.axisgrid.FacetGrid at 0x2b2ad830ca0>"
      ]
     },
     "execution_count": 94,
     "metadata": {},
     "output_type": "execute_result"
    },
    {
     "data": {
      "image/png": "[encoded data removed]",
      "text/plain": [
       "<Figure size 360x360 with 1 Axes>"
      ]
     },
     "metadata": {},
     "output_type": "display_data"
    }
   ],
   "source": [
    "# Log transformation\n",
    "uA1 = uA1.assign(log_total_revenue=np.log(uA1.total_revenue))\n",
    "sns.displot(uA1.log_total_revenue)"
   ]
  },
  {
   "cell_type": "code",
   "execution_count": 95,
   "id": "35439bc0",
   "metadata": {
    "scrolled": false
   },
   "outputs": [
    {
     "data": {
      "text/plain": [
       "<seaborn.axisgrid.FacetGrid at 0x2b2ac364d90>"
      ]
     },
     "execution_count": 95,
     "metadata": {},
     "output_type": "execute_result"
    },
    {
     "data": {
      "image/png": "[encoded data removed]",
      "text/plain": [
       "<Figure size 360x360 with 1 Axes>"
      ]
     },
     "metadata": {},
     "output_type": "display_data"
    }
   ],
   "source": [
    "uA2 = uA2.assign(log_total_revenue=np.log(uA2.total_revenue))\n",
    "sns.displot(uA2.log_total_revenue)"
   ]
  },
  {
   "cell_type": "code",
   "execution_count": 96,
   "id": "ec5346fa",
   "metadata": {
    "scrolled": false
   },
   "outputs": [
    {
     "data": {
      "text/plain": [
       "<seaborn.axisgrid.FacetGrid at 0x2b2ad90a040>"
      ]
     },
     "execution_count": 96,
     "metadata": {},
     "output_type": "execute_result"
    },
    {
     "data": {
      "image/png": "[encoded data removed]",
      "text/plain": [
       "<Figure size 360x360 with 1 Axes>"
      ]
     },
     "metadata": {},
     "output_type": "display_data"
    }
   ],
   "source": [
    "uB = uB.assign(log_total_revenue=np.log(uB.total_revenue))\n",
    "sns.displot(uB.log_total_revenue)"
   ]
  },
  {
   "cell_type": "markdown",
   "id": "7c2bec7c",
   "metadata": {},
   "source": [
    "#### T-test"
   ]
  },
  {
   "cell_type": "code",
   "execution_count": 97,
   "id": "5b1eb70d",
   "metadata": {},
   "outputs": [
    {
     "name": "stdout",
     "output_type": "stream",
     "text": [
      "Ttest_indResult(statistic=0.6439978423752836, pvalue=0.5199684247563092)\n",
      "Ttest_indResult(statistic=-3.545665220131177, pvalue=0.0004267723184959417)\n"
     ]
    }
   ],
   "source": [
    "# Unite Control groups in one (A1+A2)\n",
    "uA12 = pd.concat([uA1, uA2])\n",
    "\n",
    "# Compare the means of groups with t-test\n",
    "print(ttest_ind(uA1.log_total_revenue, uA2.log_total_revenue))\n",
    "print(ttest_ind(uA12.log_total_revenue, uB.log_total_revenue))"
   ]
  },
  {
   "cell_type": "markdown",
   "id": "4480206e",
   "metadata": {},
   "source": [
    "#### Bootstrap"
   ]
  },
  {
   "cell_type": "code",
   "execution_count": 98,
   "id": "88e5574c",
   "metadata": {},
   "outputs": [],
   "source": [
    "# Create get_bootstrap function\n",
    "def get_bootstrap(sample1, sample2, boot_it=1000, statistic=np.mean, bootstrap_conf_level=0.95):\n",
    "    boot_len = max([len(sample1), len(sample2)])\n",
    "    boot_data = [] \n",
    "    for i in range(boot_it): \n",
    "        samples_1 = sample1.sample(boot_len, replace=True).values\n",
    "        samples_2 = sample2.sample(boot_len, replace=True).values\n",
    "        \n",
    "        boot_data.append(statistic(samples_1 - samples_2))\n",
    "                  \n",
    "    p_1 = norm.cdf(x=0, loc=np.mean(boot_data), scale=np.std(boot_data))\n",
    "    p_2 = norm.cdf(x=0, loc=-np.mean(boot_data), scale=np.std(boot_data))\n",
    "    p_value = min(p_1, p_2) * 2\n",
    "\n",
    "    return {\"p_value\": p_value}"
   ]
  },
  {
   "cell_type": "code",
   "execution_count": 99,
   "id": "4cb12ca2",
   "metadata": {},
   "outputs": [
    {
     "name": "stdout",
     "output_type": "stream",
     "text": [
      "p-value:\n",
      "Control A1 and Control A2: 0.2438419365424973\n",
      "Control(A1 + A2) and Treatment(B): 0.018330447017359787\n",
      "- reject Null Hypothesis\n"
     ]
    }
   ],
   "source": [
    "AA = get_bootstrap(uA1.total_revenue, uA2.total_revenue)\n",
    "AB = get_bootstrap(uA12.total_revenue, uB.total_revenue)\n",
    "print('p-value:')\n",
    "print(f'Control A1 and Control A2: {AA[\"p_value\"]}')\n",
    "print(f'Control(A1 + A2) and Treatment(B): {AB[\"p_value\"]}')\n",
    "print('- reject Null Hypothesis' if AA[\"p_value\"] > 0.05 and AB[\"p_value\"] <= 0.05 else '- accept Null Hypothesis')"
   ]
  },
  {
   "cell_type": "markdown",
   "id": "4b140900",
   "metadata": {},
   "source": [
    " *** \n",
    "## Part 2\n",
    "Analyze the subcategories to find out whether the changes have a significant effect on specific user categories.<br>\n",
    "\n",
    "There are users from Europe and North America. When comparing subcategories α is adjusted to account for the number of comparisons made. This will reduce the probability of committing a type I error. Alpha is thus equal to 0.025.\n",
    "\n",
    "#### ARPPU from Premium Subscription only\n",
    "We will analyse Average Revenue Per Users from buying Premium Subscription, product_type is _\"premium_no_trial\"_ (Subscription ARPPU). After increasing the price it is possible that users cancel their premium membership.<br>\n",
    "__H0:__ The ARPPU from Premium Subscription in Control groups does not differ significantly from the Treatment group.<br>\n",
    "__H1:__ The effect can be present in case Treatment users will continue to pay for premium subscription with a new price, therefore their Total Revenue will be greater than that of Control users."
   ]
  },
  {
   "cell_type": "code",
   "execution_count": 100,
   "id": "15d7fe7e",
   "metadata": {},
   "outputs": [],
   "source": [
    "# Assign Groups\n",
    "transactions_A1 = transactions_A1.assign(Group=\"A1\")\n",
    "transactions_A2 = transactions_A2.assign(Group=\"A2\")\n",
    "transactions_B = transactions_B.assign(Group=\"B\")\n",
    "\n",
    "transactions = pd.concat([transactions_A1, transactions_A2, transactions_B])"
   ]
  },
  {
   "cell_type": "code",
   "execution_count": 101,
   "id": "6f9581b4",
   "metadata": {},
   "outputs": [],
   "source": [
    "# Merge to get information about subscription type\n",
    "transactions = transactions.merge(u[['uid', 'is_premium']], on='uid', how='left')"
   ]
  },
  {
   "cell_type": "code",
   "execution_count": 102,
   "id": "7f5fc18f",
   "metadata": {},
   "outputs": [],
   "source": [
    "# Assign regions\n",
    "region_cond = [\n",
    "    (transactions['country'].isin(['United States of America', 'Canada'])),\n",
    "    (transactions['country'].isin(['France', 'Italy', 'Spain', 'United Kingdom (Great Britain)', \n",
    "                                   'Germany', 'Portugal', 'Switzerland', 'Belgium', 'Ukraine', 'Latvia', \n",
    "                                   'Austria', 'Lithuania', 'Russian Federation'])),\n",
    "    (transactions['country'].isin(['Argentina', 'Chile', 'Mexico', 'Turkey', 'Israel', 'United Arab Emirates', 'India', 'Australia']))\n",
    "]"
   ]
  },
  {
   "cell_type": "code",
   "execution_count": 103,
   "id": "07e725f9",
   "metadata": {},
   "outputs": [],
   "source": [
    "region_name = ['NA', 'EU', 'other']"
   ]
  },
  {
   "cell_type": "code",
   "execution_count": 104,
   "id": "7180e6dc",
   "metadata": {},
   "outputs": [],
   "source": [
    "transactions['region'] = np.select(region_cond, region_name)"
   ]
  },
  {
   "cell_type": "code",
   "execution_count": 105,
   "id": "ccbe35c0",
   "metadata": {},
   "outputs": [
    {
     "data": {
      "text/html": [
       "<div>\n",
       "<style scoped>\n",
       "    .dataframe tbody tr th:only-of-type {\n",
       "        vertical-align: middle;\n",
       "    }\n",
       "\n",
       "    .dataframe tbody tr th {\n",
       "        vertical-align: top;\n",
       "    }\n",
       "\n",
       "    .dataframe thead th {\n",
       "        text-align: right;\n",
       "    }\n",
       "</style>\n",
       "<table border=\"1\" class=\"dataframe\">\n",
       "  <thead>\n",
       "    <tr style=\"text-align: right;\">\n",
       "      <th></th>\n",
       "      <th>uid</th>\n",
       "      <th>country</th>\n",
       "      <th>joined_at</th>\n",
       "      <th>paid_at</th>\n",
       "      <th>revenue</th>\n",
       "      <th>payment_id</th>\n",
       "      <th>from_page</th>\n",
       "      <th>product_type</th>\n",
       "      <th>Group</th>\n",
       "      <th>is_premium</th>\n",
       "      <th>region</th>\n",
       "    </tr>\n",
       "  </thead>\n",
       "  <tbody>\n",
       "    <tr>\n",
       "      <th>0</th>\n",
       "      <td>891319275.0</td>\n",
       "      <td>France</td>\n",
       "      <td>2017-05-11 19:57:00</td>\n",
       "      <td>2017-12-11 21:57:00</td>\n",
       "      <td>12727.0</td>\n",
       "      <td>147.0</td>\n",
       "      <td>trial_vip_popup</td>\n",
       "      <td>trial_premium</td>\n",
       "      <td>A1</td>\n",
       "      <td>1.0</td>\n",
       "      <td>EU</td>\n",
       "    </tr>\n",
       "    <tr>\n",
       "      <th>1</th>\n",
       "      <td>892421826.0</td>\n",
       "      <td>Israel</td>\n",
       "      <td>2017-10-14 12:46:00</td>\n",
       "      <td>2017-10-23 12:54:00</td>\n",
       "      <td>14586.0</td>\n",
       "      <td>147.0</td>\n",
       "      <td>trial_vip_popup</td>\n",
       "      <td>trial_premium</td>\n",
       "      <td>A1</td>\n",
       "      <td>1.0</td>\n",
       "      <td>other</td>\n",
       "    </tr>\n",
       "    <tr>\n",
       "      <th>2</th>\n",
       "      <td>891822480.0</td>\n",
       "      <td>Italy</td>\n",
       "      <td>2017-10-26 22:27:00</td>\n",
       "      <td>2017-12-11 20:59:00</td>\n",
       "      <td>1911.0</td>\n",
       "      <td>19.0</td>\n",
       "      <td>none</td>\n",
       "      <td>coins</td>\n",
       "      <td>A1</td>\n",
       "      <td>1.0</td>\n",
       "      <td>EU</td>\n",
       "    </tr>\n",
       "  </tbody>\n",
       "</table>\n",
       "</div>"
      ],
      "text/plain": [
       "           uid country           joined_at             paid_at  revenue  \\\n",
       "0  891319275.0  France 2017-05-11 19:57:00 2017-12-11 21:57:00  12727.0   \n",
       "1  892421826.0  Israel 2017-10-14 12:46:00 2017-10-23 12:54:00  14586.0   \n",
       "2  891822480.0   Italy 2017-10-26 22:27:00 2017-12-11 20:59:00   1911.0   \n",
       "\n",
       "   payment_id        from_page   product_type Group  is_premium region  \n",
       "0       147.0  trial_vip_popup  trial_premium    A1         1.0     EU  \n",
       "1       147.0  trial_vip_popup  trial_premium    A1         1.0  other  \n",
       "2        19.0             none          coins    A1         1.0     EU  "
      ]
     },
     "execution_count": 105,
     "metadata": {},
     "output_type": "execute_result"
    }
   ],
   "source": [
    "transactions.head(3)"
   ]
  },
  {
   "cell_type": "code",
   "execution_count": 106,
   "id": "081daf2a",
   "metadata": {},
   "outputs": [
    {
     "data": {
      "text/html": [
       "<div>\n",
       "<style scoped>\n",
       "    .dataframe tbody tr th:only-of-type {\n",
       "        vertical-align: middle;\n",
       "    }\n",
       "\n",
       "    .dataframe tbody tr th {\n",
       "        vertical-align: top;\n",
       "    }\n",
       "\n",
       "    .dataframe thead th {\n",
       "        text-align: right;\n",
       "    }\n",
       "</style>\n",
       "<table border=\"1\" class=\"dataframe\">\n",
       "  <thead>\n",
       "    <tr style=\"text-align: right;\">\n",
       "      <th></th>\n",
       "      <th>uid</th>\n",
       "      <th>Group</th>\n",
       "      <th>region</th>\n",
       "      <th>revenue</th>\n",
       "    </tr>\n",
       "  </thead>\n",
       "  <tbody>\n",
       "    <tr>\n",
       "      <th>141</th>\n",
       "      <td>892216461.0</td>\n",
       "      <td>A1</td>\n",
       "      <td>NA</td>\n",
       "      <td>63037.0</td>\n",
       "    </tr>\n",
       "    <tr>\n",
       "      <th>139</th>\n",
       "      <td>892207959.0</td>\n",
       "      <td>A1</td>\n",
       "      <td>EU</td>\n",
       "      <td>6292.0</td>\n",
       "    </tr>\n",
       "    <tr>\n",
       "      <th>106</th>\n",
       "      <td>892042395.0</td>\n",
       "      <td>A1</td>\n",
       "      <td>NA</td>\n",
       "      <td>4537.0</td>\n",
       "    </tr>\n",
       "    <tr>\n",
       "      <th>36</th>\n",
       "      <td>891365490.0</td>\n",
       "      <td>A1</td>\n",
       "      <td>NA</td>\n",
       "      <td>6292.0</td>\n",
       "    </tr>\n",
       "    <tr>\n",
       "      <th>136</th>\n",
       "      <td>892204314.0</td>\n",
       "      <td>A1</td>\n",
       "      <td>EU</td>\n",
       "      <td>6292.0</td>\n",
       "    </tr>\n",
       "    <tr>\n",
       "      <th>...</th>\n",
       "      <td>...</td>\n",
       "      <td>...</td>\n",
       "      <td>...</td>\n",
       "      <td>...</td>\n",
       "    </tr>\n",
       "    <tr>\n",
       "      <th>140</th>\n",
       "      <td>892211106.0</td>\n",
       "      <td>B</td>\n",
       "      <td>EU</td>\n",
       "      <td>4537.0</td>\n",
       "    </tr>\n",
       "    <tr>\n",
       "      <th>33</th>\n",
       "      <td>891325683.0</td>\n",
       "      <td>B</td>\n",
       "      <td>NA</td>\n",
       "      <td>4719.0</td>\n",
       "    </tr>\n",
       "    <tr>\n",
       "      <th>142</th>\n",
       "      <td>892217373.0</td>\n",
       "      <td>B</td>\n",
       "      <td>NA</td>\n",
       "      <td>7904.0</td>\n",
       "    </tr>\n",
       "    <tr>\n",
       "      <th>59</th>\n",
       "      <td>891564672.0</td>\n",
       "      <td>B</td>\n",
       "      <td>EU</td>\n",
       "      <td>6292.0</td>\n",
       "    </tr>\n",
       "    <tr>\n",
       "      <th>0</th>\n",
       "      <td>891071157.0</td>\n",
       "      <td>B</td>\n",
       "      <td>NA</td>\n",
       "      <td>9100.0</td>\n",
       "    </tr>\n",
       "  </tbody>\n",
       "</table>\n",
       "<p>173 rows × 4 columns</p>\n",
       "</div>"
      ],
      "text/plain": [
       "             uid Group region  revenue\n",
       "141  892216461.0    A1     NA  63037.0\n",
       "139  892207959.0    A1     EU   6292.0\n",
       "106  892042395.0    A1     NA   4537.0\n",
       "36   891365490.0    A1     NA   6292.0\n",
       "136  892204314.0    A1     EU   6292.0\n",
       "..           ...   ...    ...      ...\n",
       "140  892211106.0     B     EU   4537.0\n",
       "33   891325683.0     B     NA   4719.0\n",
       "142  892217373.0     B     NA   7904.0\n",
       "59   891564672.0     B     EU   6292.0\n",
       "0    891071157.0     B     NA   9100.0\n",
       "\n",
       "[173 rows x 4 columns]"
      ]
     },
     "execution_count": 106,
     "metadata": {},
     "output_type": "execute_result"
    }
   ],
   "source": [
    "# Filter the data to have only premium users from North America and Europe\n",
    "transactions_premium = transactions.query('is_premium == 1.0 & product_type == \"premium_no_trial\" & region == [\"EU\", \"NA\"]') \\\n",
    " .groupby(['uid', 'Group', 'region'], as_index=False).agg({'revenue': 'sum'}).sort_values(by='Group')\n",
    "\n",
    "transactions_premium"
   ]
  },
  {
   "cell_type": "code",
   "execution_count": 107,
   "id": "646ea15e",
   "metadata": {},
   "outputs": [
    {
     "data": {
      "text/plain": [
       "Group\n",
       "A1    70\n",
       "A2    82\n",
       "B     47\n",
       "Name: uid, dtype: int64"
      ]
     },
     "execution_count": 107,
     "metadata": {},
     "output_type": "execute_result"
    }
   ],
   "source": [
    "# Check the size of samples\n",
    "transactions_premium = transactions.query('product_type == \"premium_no_trial\" & region == [\"EU\", \"NA\"]') \\\n",
    " .groupby(['uid', 'Group', 'region'], as_index=False).agg({'revenue': 'sum'})\n",
    "transactions_premium.groupby('Group').uid.count()"
   ]
  },
  {
   "cell_type": "code",
   "execution_count": 108,
   "id": "496bcc6f",
   "metadata": {},
   "outputs": [
    {
     "data": {
      "image/png": "[encoded data removed]",
      "text/plain": [
       "<Figure size 864x360 with 1 Axes>"
      ]
     },
     "metadata": {},
     "output_type": "display_data"
    }
   ],
   "source": [
    "# Check distributions\n",
    "plt.figure(figsize=(12,5))\n",
    "sns.histplot(data=transactions_premium, x='revenue', hue='Group', palette='cool').set_title('Revenues per user from premium subscription')\n",
    "sns.despine()"
   ]
  },
  {
   "cell_type": "code",
   "execution_count": 109,
   "id": "a37634c3",
   "metadata": {},
   "outputs": [
    {
     "data": {
      "text/html": [
       "<style  type=\"text/css\" >\n",
       "#T_ef214_row0_col1,#T_ef214_row1_col1,#T_ef214_row2_col1{\n",
       "            background-color:  #efdecd;\n",
       "        }</style><table id=\"T_ef214_\" ><thead>    <tr>        <th class=\"blank level0\" ></th>        <th class=\"col_heading level0 col0\" >count</th>        <th class=\"col_heading level0 col1\" >mean</th>        <th class=\"col_heading level0 col2\" >std</th>        <th class=\"col_heading level0 col3\" >min</th>        <th class=\"col_heading level0 col4\" >25%</th>        <th class=\"col_heading level0 col5\" >50%</th>        <th class=\"col_heading level0 col6\" >75%</th>        <th class=\"col_heading level0 col7\" >max</th>    </tr>    <tr>        <th class=\"index_name level0\" >Group</th>        <th class=\"blank\" ></th>        <th class=\"blank\" ></th>        <th class=\"blank\" ></th>        <th class=\"blank\" ></th>        <th class=\"blank\" ></th>        <th class=\"blank\" ></th>        <th class=\"blank\" ></th>        <th class=\"blank\" ></th>    </tr></thead><tbody>\n",
       "                <tr>\n",
       "                        <th id=\"T_ef214_level0_row0\" class=\"row_heading level0 row0\" >A1</th>\n",
       "                        <td id=\"T_ef214_row0_col0\" class=\"data row0 col0\" >70.000000</td>\n",
       "                        <td id=\"T_ef214_row0_col1\" class=\"data row0 col1\" >7190.485714</td>\n",
       "                        <td id=\"T_ef214_row0_col2\" class=\"data row0 col2\" >8716.346834</td>\n",
       "                        <td id=\"T_ef214_row0_col3\" class=\"data row0 col3\" >1508.000000</td>\n",
       "                        <td id=\"T_ef214_row0_col4\" class=\"data row0 col4\" >4537.000000</td>\n",
       "                        <td id=\"T_ef214_row0_col5\" class=\"data row0 col5\" >6292.000000</td>\n",
       "                        <td id=\"T_ef214_row0_col6\" class=\"data row0 col6\" >6418.750000</td>\n",
       "                        <td id=\"T_ef214_row0_col7\" class=\"data row0 col7\" >63037.000000</td>\n",
       "            </tr>\n",
       "            <tr>\n",
       "                        <th id=\"T_ef214_level0_row1\" class=\"row_heading level0 row1\" >A2</th>\n",
       "                        <td id=\"T_ef214_row1_col0\" class=\"data row1 col0\" >82.000000</td>\n",
       "                        <td id=\"T_ef214_row1_col1\" class=\"data row1 col1\" >6568.487805</td>\n",
       "                        <td id=\"T_ef214_row1_col2\" class=\"data row1 col2\" >6640.159044</td>\n",
       "                        <td id=\"T_ef214_row1_col3\" class=\"data row1 col3\" >1482.000000</td>\n",
       "                        <td id=\"T_ef214_row1_col4\" class=\"data row1 col4\" >4537.000000</td>\n",
       "                        <td id=\"T_ef214_row1_col5\" class=\"data row1 col5\" >6292.000000</td>\n",
       "                        <td id=\"T_ef214_row1_col6\" class=\"data row1 col6\" >6353.750000</td>\n",
       "                        <td id=\"T_ef214_row1_col7\" class=\"data row1 col7\" >63037.000000</td>\n",
       "            </tr>\n",
       "            <tr>\n",
       "                        <th id=\"T_ef214_level0_row2\" class=\"row_heading level0 row2\" >B</th>\n",
       "                        <td id=\"T_ef214_row2_col0\" class=\"data row2 col0\" >47.000000</td>\n",
       "                        <td id=\"T_ef214_row2_col1\" class=\"data row2 col1\" >10651.702128</td>\n",
       "                        <td id=\"T_ef214_row2_col2\" class=\"data row2 col2\" >15720.487324</td>\n",
       "                        <td id=\"T_ef214_row2_col3\" class=\"data row2 col3\" >1898.000000</td>\n",
       "                        <td id=\"T_ef214_row2_col4\" class=\"data row2 col4\" >6292.000000</td>\n",
       "                        <td id=\"T_ef214_row2_col5\" class=\"data row2 col5\" >7904.000000</td>\n",
       "                        <td id=\"T_ef214_row2_col6\" class=\"data row2 col6\" >11362.000000</td>\n",
       "                        <td id=\"T_ef214_row2_col7\" class=\"data row2 col7\" >113477.000000</td>\n",
       "            </tr>\n",
       "    </tbody></table>"
      ],
      "text/plain": [
       "<pandas.io.formats.style.Styler at 0x2b2ac32afa0>"
      ]
     },
     "execution_count": 109,
     "metadata": {},
     "output_type": "execute_result"
    }
   ],
   "source": [
    "# Statistics for revenues per user from premium subscription for each testing group\n",
    "(transactions_premium.groupby(['Group', 'uid'], as_index=False).agg({'revenue': 'sum'})\n",
    " .groupby('Group').revenue.describe()\n",
    " .style.set_properties(**{'background-color': '#efdecd'}, subset=['mean']))"
   ]
  },
  {
   "cell_type": "markdown",
   "id": "c2af84e6",
   "metadata": {},
   "source": [
    "#### Hypothesis testing "
   ]
  },
  {
   "cell_type": "code",
   "execution_count": 110,
   "id": "6ebb290c",
   "metadata": {},
   "outputs": [
    {
     "name": "stdout",
     "output_type": "stream",
     "text": [
      "Ttest_indResult(statistic=-2.246745559392231, pvalue=0.025765766889225095)\n"
     ]
    }
   ],
   "source": [
    "# Compare the means of groups with t-test\n",
    "print(ttest_ind(transactions_premium.query('Group != \"B\"').revenue, transactions_premium.query('Group == \"B\"').revenue))"
   ]
  },
  {
   "cell_type": "code",
   "execution_count": 111,
   "id": "68a2dfcf",
   "metadata": {
    "scrolled": false
   },
   "outputs": [
    {
     "name": "stdout",
     "output_type": "stream",
     "text": [
      "p-values:\n",
      "Control A1 and Control A2: 0.596232459969559\n",
      "Control(A1 + A2) and Treatment(B): 0.006290861294662773\n",
      "- reject Null Hypothesis\n"
     ]
    }
   ],
   "source": [
    "# Bootstrap\n",
    "AA = get_bootstrap(transactions_premium.query('Group == \"A1\"').revenue, transactions_premium.query('Group == \"A2\"').revenue)\n",
    "AB = get_bootstrap(transactions_premium.query('Group != \"B\"').revenue, transactions_premium.query('Group == \"B\"').revenue)\n",
    "print('p-values:')\n",
    "print(f'Control A1 and Control A2: {AA[\"p_value\"]}')\n",
    "print(f'Control(A1 + A2) and Treatment(B): {AB[\"p_value\"]}')\n",
    "print('- reject Null Hypothesis' if AA[\"p_value\"] > 0.05 and AB[\"p_value\"] < 0.05 else '- accept Null Hypothesis')"
   ]
  },
  {
   "cell_type": "markdown",
   "id": "c559880e",
   "metadata": {},
   "source": [
    "#### by region"
   ]
  },
  {
   "cell_type": "code",
   "execution_count": 112,
   "id": "847618f6",
   "metadata": {
    "scrolled": false
   },
   "outputs": [
    {
     "data": {
      "text/html": [
       "<style  type=\"text/css\" >\n",
       "#T_222c6_row0_col1,#T_222c6_row1_col1,#T_222c6_row2_col1,#T_222c6_row3_col1,#T_222c6_row4_col1,#T_222c6_row5_col1{\n",
       "            background-color:  #efdecd;\n",
       "        }</style><table id=\"T_222c6_\" ><thead>    <tr>        <th class=\"blank\" ></th>        <th class=\"blank level0\" ></th>        <th class=\"col_heading level0 col0\" >count</th>        <th class=\"col_heading level0 col1\" >mean</th>        <th class=\"col_heading level0 col2\" >std</th>        <th class=\"col_heading level0 col3\" >min</th>        <th class=\"col_heading level0 col4\" >25%</th>        <th class=\"col_heading level0 col5\" >50%</th>        <th class=\"col_heading level0 col6\" >75%</th>        <th class=\"col_heading level0 col7\" >max</th>    </tr>    <tr>        <th class=\"index_name level0\" >Group</th>        <th class=\"index_name level1\" >region</th>        <th class=\"blank\" ></th>        <th class=\"blank\" ></th>        <th class=\"blank\" ></th>        <th class=\"blank\" ></th>        <th class=\"blank\" ></th>        <th class=\"blank\" ></th>        <th class=\"blank\" ></th>        <th class=\"blank\" ></th>    </tr></thead><tbody>\n",
       "                <tr>\n",
       "                        <th id=\"T_222c6_level0_row0\" class=\"row_heading level0 row0\" rowspan=\"2\">A1</th>\n",
       "                        <th id=\"T_222c6_level1_row0\" class=\"row_heading level1 row0\" >EU</th>\n",
       "                        <td id=\"T_222c6_row0_col0\" class=\"data row0 col0\" >40.000000</td>\n",
       "                        <td id=\"T_222c6_row0_col1\" class=\"data row0 col1\" >5897.125000</td>\n",
       "                        <td id=\"T_222c6_row0_col2\" class=\"data row0 col2\" >2266.965216</td>\n",
       "                        <td id=\"T_222c6_row0_col3\" class=\"data row0 col3\" >1898.000000</td>\n",
       "                        <td id=\"T_222c6_row0_col4\" class=\"data row0 col4\" >4524.000000</td>\n",
       "                        <td id=\"T_222c6_row0_col5\" class=\"data row0 col5\" >6292.000000</td>\n",
       "                        <td id=\"T_222c6_row0_col6\" class=\"data row0 col6\" >6438.250000</td>\n",
       "                        <td id=\"T_222c6_row0_col7\" class=\"data row0 col7\" >12844.000000</td>\n",
       "            </tr>\n",
       "            <tr>\n",
       "                                <th id=\"T_222c6_level1_row1\" class=\"row_heading level1 row1\" >NA</th>\n",
       "                        <td id=\"T_222c6_row1_col0\" class=\"data row1 col0\" >30.000000</td>\n",
       "                        <td id=\"T_222c6_row1_col1\" class=\"data row1 col1\" >8914.966667</td>\n",
       "                        <td id=\"T_222c6_row1_col2\" class=\"data row1 col2\" >12979.695035</td>\n",
       "                        <td id=\"T_222c6_row1_col3\" class=\"data row1 col3\" >1508.000000</td>\n",
       "                        <td id=\"T_222c6_row1_col4\" class=\"data row1 col4\" >4537.000000</td>\n",
       "                        <td id=\"T_222c6_row1_col5\" class=\"data row1 col5\" >6292.000000</td>\n",
       "                        <td id=\"T_222c6_row1_col6\" class=\"data row1 col6\" >6292.000000</td>\n",
       "                        <td id=\"T_222c6_row1_col7\" class=\"data row1 col7\" >63037.000000</td>\n",
       "            </tr>\n",
       "            <tr>\n",
       "                        <th id=\"T_222c6_level0_row2\" class=\"row_heading level0 row2\" rowspan=\"2\">A2</th>\n",
       "                        <th id=\"T_222c6_level1_row2\" class=\"row_heading level1 row2\" >EU</th>\n",
       "                        <td id=\"T_222c6_row2_col0\" class=\"data row2 col0\" >49.000000</td>\n",
       "                        <td id=\"T_222c6_row2_col1\" class=\"data row2 col1\" >7212.081633</td>\n",
       "                        <td id=\"T_222c6_row2_col2\" class=\"data row2 col2\" >8464.008915</td>\n",
       "                        <td id=\"T_222c6_row2_col3\" class=\"data row2 col3\" >1482.000000</td>\n",
       "                        <td id=\"T_222c6_row2_col4\" class=\"data row2 col4\" >4797.000000</td>\n",
       "                        <td id=\"T_222c6_row2_col5\" class=\"data row2 col5\" >6292.000000</td>\n",
       "                        <td id=\"T_222c6_row2_col6\" class=\"data row2 col6\" >6409.000000</td>\n",
       "                        <td id=\"T_222c6_row2_col7\" class=\"data row2 col7\" >63037.000000</td>\n",
       "            </tr>\n",
       "            <tr>\n",
       "                                <th id=\"T_222c6_level1_row3\" class=\"row_heading level1 row3\" >NA</th>\n",
       "                        <td id=\"T_222c6_row3_col0\" class=\"data row3 col0\" >33.000000</td>\n",
       "                        <td id=\"T_222c6_row3_col1\" class=\"data row3 col1\" >5612.848485</td>\n",
       "                        <td id=\"T_222c6_row3_col2\" class=\"data row3 col2\" >1603.722800</td>\n",
       "                        <td id=\"T_222c6_row3_col3\" class=\"data row3 col3\" >2756.000000</td>\n",
       "                        <td id=\"T_222c6_row3_col4\" class=\"data row3 col4\" >4537.000000</td>\n",
       "                        <td id=\"T_222c6_row3_col5\" class=\"data row3 col5\" >5265.000000</td>\n",
       "                        <td id=\"T_222c6_row3_col6\" class=\"data row3 col6\" >6292.000000</td>\n",
       "                        <td id=\"T_222c6_row3_col7\" class=\"data row3 col7\" >9360.000000</td>\n",
       "            </tr>\n",
       "            <tr>\n",
       "                        <th id=\"T_222c6_level0_row4\" class=\"row_heading level0 row4\" rowspan=\"2\">B</th>\n",
       "                        <th id=\"T_222c6_level1_row4\" class=\"row_heading level1 row4\" >EU</th>\n",
       "                        <td id=\"T_222c6_row4_col0\" class=\"data row4 col0\" >26.000000</td>\n",
       "                        <td id=\"T_222c6_row4_col1\" class=\"data row4 col1\" >11938.500000</td>\n",
       "                        <td id=\"T_222c6_row4_col2\" class=\"data row4 col2\" >21118.460569</td>\n",
       "                        <td id=\"T_222c6_row4_col3\" class=\"data row4 col3\" >1898.000000</td>\n",
       "                        <td id=\"T_222c6_row4_col4\" class=\"data row4 col4\" >5378.750000</td>\n",
       "                        <td id=\"T_222c6_row4_col5\" class=\"data row4 col5\" >6844.500000</td>\n",
       "                        <td id=\"T_222c6_row4_col6\" class=\"data row4 col6\" >11833.250000</td>\n",
       "                        <td id=\"T_222c6_row4_col7\" class=\"data row4 col7\" >113477.000000</td>\n",
       "            </tr>\n",
       "            <tr>\n",
       "                                <th id=\"T_222c6_level1_row5\" class=\"row_heading level1 row5\" >NA</th>\n",
       "                        <td id=\"T_222c6_row5_col0\" class=\"data row5 col0\" >21.000000</td>\n",
       "                        <td id=\"T_222c6_row5_col1\" class=\"data row5 col1\" >9058.523810</td>\n",
       "                        <td id=\"T_222c6_row5_col2\" class=\"data row5 col2\" >2470.446814</td>\n",
       "                        <td id=\"T_222c6_row5_col3\" class=\"data row5 col3\" >4706.000000</td>\n",
       "                        <td id=\"T_222c6_row5_col4\" class=\"data row5 col4\" >7774.000000</td>\n",
       "                        <td id=\"T_222c6_row5_col5\" class=\"data row5 col5\" >9100.000000</td>\n",
       "                        <td id=\"T_222c6_row5_col6\" class=\"data row5 col6\" >11115.000000</td>\n",
       "                        <td id=\"T_222c6_row5_col7\" class=\"data row5 col7\" >12597.000000</td>\n",
       "            </tr>\n",
       "    </tbody></table>"
      ],
      "text/plain": [
       "<pandas.io.formats.style.Styler at 0x2b2ad83ecd0>"
      ]
     },
     "execution_count": 112,
     "metadata": {},
     "output_type": "execute_result"
    }
   ],
   "source": [
    "# Statistics by region\n",
    "transactions_premium.groupby(['Group', 'region']).revenue.describe() \\\n",
    "    .style.set_properties(**{'background-color': '#efdecd'}, subset=['mean'])"
   ]
  },
  {
   "cell_type": "markdown",
   "id": "bf68bf62",
   "metadata": {},
   "source": [
    "#### Hypothesis testing "
   ]
  },
  {
   "cell_type": "code",
   "execution_count": 113,
   "id": "d3e2bbd8",
   "metadata": {
    "scrolled": false
   },
   "outputs": [
    {
     "name": "stdout",
     "output_type": "stream",
     "text": [
      "p-values:\n",
      "Control A1 and Control A2: 0.12772551927014839\n",
      "Control(A1 + A2) and Treatment(B): 0.10638704758316307\n",
      "- accept Null Hypothesis\n"
     ]
    }
   ],
   "source": [
    "# North America\n",
    "AA = get_bootstrap(transactions_premium.query('Group == \"A1\" & region == \"NA\"').revenue, \n",
    "                     transactions_premium.query('Group == \"A2\" & region == \"NA\"').revenue)\n",
    "AB = get_bootstrap(transactions_premium.query('Group == [\"A1\", \"A2\"] & region == \"NA\"').revenue,\n",
    "                     transactions_premium.query('Group == \"B\" & region == \"NA\"').revenue)\n",
    "print('p-values:')\n",
    "print(f'Control A1 and Control A2: {AA[\"p_value\"]}')\n",
    "print(f'Control(A1 + A2) and Treatment(B): {AB[\"p_value\"]}')\n",
    "print('- reject Null Hypothesis' if AA[\"p_value\"] > 0.25 and AB[\"p_value\"] <= 0.25 else '- accept Null Hypothesis')"
   ]
  },
  {
   "cell_type": "code",
   "execution_count": 114,
   "id": "f127d321",
   "metadata": {
    "scrolled": true
   },
   "outputs": [
    {
     "name": "stdout",
     "output_type": "stream",
     "text": [
      "p-values:\n",
      "Control A1 and Control A2: 0.3089266425736047\n",
      "Control(A1 + A2) and Treatment(B): 0.01920402105132994\n",
      "- reject Null Hypothesis\n"
     ]
    }
   ],
   "source": [
    "# Europe\n",
    "AA = get_bootstrap(transactions_premium.query('Group == \"A1\" & region == \"EU\"').revenue, \n",
    "                     transactions_premium.query('Group == \"A2\" & region == \"EU\"').revenue)\n",
    "AB = get_bootstrap(transactions_premium.query('Group == [\"A1\", \"A2\"] & region == \"EU\"').revenue,\n",
    "                     transactions_premium.query('Group == \"B\" & region == \"EU\"').revenue)\n",
    "print('p-values:')\n",
    "print(f'Control A1 and Control A2: {AA[\"p_value\"]}')\n",
    "print(f'Control(A1 + A2) and Treatment(B): {AB[\"p_value\"]}')\n",
    "print('- reject Null Hypothesis' if AA[\"p_value\"] > 0.25 and AB[\"p_value\"] <= 0.025 else '- accept Null Hypothesis')"
   ]
  },
  {
   "cell_type": "markdown",
   "id": "20600895",
   "metadata": {},
   "source": [
    " *** \n",
    "### Revenue per user from Premium subscription + Coins"
   ]
  },
  {
   "cell_type": "markdown",
   "id": "c137c70b",
   "metadata": {},
   "source": [
    "__H0:__ Probably users from Treatment buy less coins, since the subscription price is already high (higher than for Control groups) they don't want to spend additional money on this feature, and thus the total revenue from subscription and coins doesn't differ from Control groups (where users can afford to spend some more money and additionally buy coins)."
   ]
  },
  {
   "cell_type": "code",
   "execution_count": 115,
   "id": "6f265654",
   "metadata": {},
   "outputs": [
    {
     "data": {
      "text/html": [
       "<div>\n",
       "<style scoped>\n",
       "    .dataframe tbody tr th:only-of-type {\n",
       "        vertical-align: middle;\n",
       "    }\n",
       "\n",
       "    .dataframe tbody tr th {\n",
       "        vertical-align: top;\n",
       "    }\n",
       "\n",
       "    .dataframe thead th {\n",
       "        text-align: right;\n",
       "    }\n",
       "</style>\n",
       "<table border=\"1\" class=\"dataframe\">\n",
       "  <thead>\n",
       "    <tr style=\"text-align: right;\">\n",
       "      <th></th>\n",
       "      <th>uid</th>\n",
       "      <th>country</th>\n",
       "      <th>joined_at</th>\n",
       "      <th>paid_at</th>\n",
       "      <th>revenue</th>\n",
       "      <th>payment_id</th>\n",
       "      <th>from_page</th>\n",
       "      <th>product_type</th>\n",
       "      <th>Group</th>\n",
       "      <th>is_premium</th>\n",
       "      <th>region</th>\n",
       "    </tr>\n",
       "  </thead>\n",
       "  <tbody>\n",
       "    <tr>\n",
       "      <th>0</th>\n",
       "      <td>891319275.0</td>\n",
       "      <td>France</td>\n",
       "      <td>2017-05-11 19:57:00</td>\n",
       "      <td>2017-12-11 21:57:00</td>\n",
       "      <td>12727.0</td>\n",
       "      <td>147.0</td>\n",
       "      <td>trial_vip_popup</td>\n",
       "      <td>trial_premium</td>\n",
       "      <td>A1</td>\n",
       "      <td>1.0</td>\n",
       "      <td>EU</td>\n",
       "    </tr>\n",
       "    <tr>\n",
       "      <th>1</th>\n",
       "      <td>892421826.0</td>\n",
       "      <td>Israel</td>\n",
       "      <td>2017-10-14 12:46:00</td>\n",
       "      <td>2017-10-23 12:54:00</td>\n",
       "      <td>14586.0</td>\n",
       "      <td>147.0</td>\n",
       "      <td>trial_vip_popup</td>\n",
       "      <td>trial_premium</td>\n",
       "      <td>A1</td>\n",
       "      <td>1.0</td>\n",
       "      <td>other</td>\n",
       "    </tr>\n",
       "    <tr>\n",
       "      <th>2</th>\n",
       "      <td>891822480.0</td>\n",
       "      <td>Italy</td>\n",
       "      <td>2017-10-26 22:27:00</td>\n",
       "      <td>2017-12-11 20:59:00</td>\n",
       "      <td>1911.0</td>\n",
       "      <td>19.0</td>\n",
       "      <td>none</td>\n",
       "      <td>coins</td>\n",
       "      <td>A1</td>\n",
       "      <td>1.0</td>\n",
       "      <td>EU</td>\n",
       "    </tr>\n",
       "  </tbody>\n",
       "</table>\n",
       "</div>"
      ],
      "text/plain": [
       "           uid country           joined_at             paid_at  revenue  \\\n",
       "0  891319275.0  France 2017-05-11 19:57:00 2017-12-11 21:57:00  12727.0   \n",
       "1  892421826.0  Israel 2017-10-14 12:46:00 2017-10-23 12:54:00  14586.0   \n",
       "2  891822480.0   Italy 2017-10-26 22:27:00 2017-12-11 20:59:00   1911.0   \n",
       "\n",
       "   payment_id        from_page   product_type Group  is_premium region  \n",
       "0       147.0  trial_vip_popup  trial_premium    A1         1.0     EU  \n",
       "1       147.0  trial_vip_popup  trial_premium    A1         1.0  other  \n",
       "2        19.0             none          coins    A1         1.0     EU  "
      ]
     },
     "execution_count": 115,
     "metadata": {},
     "output_type": "execute_result"
    }
   ],
   "source": [
    "transactions.head(3)"
   ]
  },
  {
   "cell_type": "code",
   "execution_count": 116,
   "id": "d2762814",
   "metadata": {
    "scrolled": false
   },
   "outputs": [
    {
     "data": {
      "text/html": [
       "<div>\n",
       "<style scoped>\n",
       "    .dataframe tbody tr th:only-of-type {\n",
       "        vertical-align: middle;\n",
       "    }\n",
       "\n",
       "    .dataframe tbody tr th {\n",
       "        vertical-align: top;\n",
       "    }\n",
       "\n",
       "    .dataframe thead th {\n",
       "        text-align: right;\n",
       "    }\n",
       "</style>\n",
       "<table border=\"1\" class=\"dataframe\">\n",
       "  <thead>\n",
       "    <tr style=\"text-align: right;\">\n",
       "      <th></th>\n",
       "      <th>uid</th>\n",
       "      <th>Group</th>\n",
       "      <th>region</th>\n",
       "      <th>revenue</th>\n",
       "    </tr>\n",
       "  </thead>\n",
       "  <tbody>\n",
       "    <tr>\n",
       "      <th>161</th>\n",
       "      <td>892216461.0</td>\n",
       "      <td>A1</td>\n",
       "      <td>NA</td>\n",
       "      <td>64298.0</td>\n",
       "    </tr>\n",
       "    <tr>\n",
       "      <th>61</th>\n",
       "      <td>891543996.0</td>\n",
       "      <td>A1</td>\n",
       "      <td>NA</td>\n",
       "      <td>6292.0</td>\n",
       "    </tr>\n",
       "    <tr>\n",
       "      <th>58</th>\n",
       "      <td>891522666.0</td>\n",
       "      <td>A1</td>\n",
       "      <td>EU</td>\n",
       "      <td>4056.0</td>\n",
       "    </tr>\n",
       "    <tr>\n",
       "      <th>56</th>\n",
       "      <td>891503397.0</td>\n",
       "      <td>A1</td>\n",
       "      <td>EU</td>\n",
       "      <td>6448.0</td>\n",
       "    </tr>\n",
       "    <tr>\n",
       "      <th>118</th>\n",
       "      <td>892011654.0</td>\n",
       "      <td>A1</td>\n",
       "      <td>NA</td>\n",
       "      <td>2119.0</td>\n",
       "    </tr>\n",
       "    <tr>\n",
       "      <th>...</th>\n",
       "      <td>...</td>\n",
       "      <td>...</td>\n",
       "      <td>...</td>\n",
       "      <td>...</td>\n",
       "    </tr>\n",
       "    <tr>\n",
       "      <th>82</th>\n",
       "      <td>891692940.0</td>\n",
       "      <td>B</td>\n",
       "      <td>NA</td>\n",
       "      <td>9100.0</td>\n",
       "    </tr>\n",
       "    <tr>\n",
       "      <th>75</th>\n",
       "      <td>891654090.0</td>\n",
       "      <td>B</td>\n",
       "      <td>NA</td>\n",
       "      <td>19500.0</td>\n",
       "    </tr>\n",
       "    <tr>\n",
       "      <th>71</th>\n",
       "      <td>891615909.0</td>\n",
       "      <td>B</td>\n",
       "      <td>EU</td>\n",
       "      <td>6279.0</td>\n",
       "    </tr>\n",
       "    <tr>\n",
       "      <th>104</th>\n",
       "      <td>891907887.0</td>\n",
       "      <td>B</td>\n",
       "      <td>NA</td>\n",
       "      <td>4706.0</td>\n",
       "    </tr>\n",
       "    <tr>\n",
       "      <th>97</th>\n",
       "      <td>891861048.0</td>\n",
       "      <td>B</td>\n",
       "      <td>NA</td>\n",
       "      <td>17810.0</td>\n",
       "    </tr>\n",
       "  </tbody>\n",
       "</table>\n",
       "<p>196 rows × 4 columns</p>\n",
       "</div>"
      ],
      "text/plain": [
       "             uid Group region  revenue\n",
       "161  892216461.0    A1     NA  64298.0\n",
       "61   891543996.0    A1     NA   6292.0\n",
       "58   891522666.0    A1     EU   4056.0\n",
       "56   891503397.0    A1     EU   6448.0\n",
       "118  892011654.0    A1     NA   2119.0\n",
       "..           ...   ...    ...      ...\n",
       "82   891692940.0     B     NA   9100.0\n",
       "75   891654090.0     B     NA  19500.0\n",
       "71   891615909.0     B     EU   6279.0\n",
       "104  891907887.0     B     NA   4706.0\n",
       "97   891861048.0     B     NA  17810.0\n",
       "\n",
       "[196 rows x 4 columns]"
      ]
     },
     "execution_count": 116,
     "metadata": {},
     "output_type": "execute_result"
    }
   ],
   "source": [
    "transactions_pc = transactions.query('is_premium == 1.0 & product_type == [\"premium_no_trial\", \"coins\"] & region != \"other\"') \\\n",
    " .groupby(['uid', 'Group', 'region'], as_index=False).agg({'revenue': 'sum'}).sort_values(by='Group')\n",
    "transactions_pc"
   ]
  },
  {
   "cell_type": "code",
   "execution_count": 117,
   "id": "5dd992a2",
   "metadata": {},
   "outputs": [
    {
     "data": {
      "text/plain": [
       "Group\n",
       "A1    65\n",
       "A2    77\n",
       "B     54\n",
       "Name: uid, dtype: int64"
      ]
     },
     "execution_count": 117,
     "metadata": {},
     "output_type": "execute_result"
    }
   ],
   "source": [
    "# Check the size of samples\n",
    "transactions_pc.groupby('Group').uid.count()"
   ]
  },
  {
   "cell_type": "code",
   "execution_count": 118,
   "id": "2b0eab18",
   "metadata": {},
   "outputs": [
    {
     "data": {
      "text/html": [
       "<style  type=\"text/css\" >\n",
       "#T_e940c_row0_col1,#T_e940c_row1_col1,#T_e940c_row2_col1,#T_e940c_row3_col1,#T_e940c_row4_col1,#T_e940c_row5_col1{\n",
       "            background-color:  #efdecd;\n",
       "        }</style><table id=\"T_e940c_\" ><thead>    <tr>        <th class=\"blank\" ></th>        <th class=\"blank level0\" ></th>        <th class=\"col_heading level0 col0\" >count</th>        <th class=\"col_heading level0 col1\" >mean</th>        <th class=\"col_heading level0 col2\" >std</th>        <th class=\"col_heading level0 col3\" >min</th>        <th class=\"col_heading level0 col4\" >25%</th>        <th class=\"col_heading level0 col5\" >50%</th>        <th class=\"col_heading level0 col6\" >75%</th>        <th class=\"col_heading level0 col7\" >max</th>    </tr>    <tr>        <th class=\"index_name level0\" >Group</th>        <th class=\"index_name level1\" >region</th>        <th class=\"blank\" ></th>        <th class=\"blank\" ></th>        <th class=\"blank\" ></th>        <th class=\"blank\" ></th>        <th class=\"blank\" ></th>        <th class=\"blank\" ></th>        <th class=\"blank\" ></th>        <th class=\"blank\" ></th>    </tr></thead><tbody>\n",
       "                <tr>\n",
       "                        <th id=\"T_e940c_level0_row0\" class=\"row_heading level0 row0\" rowspan=\"2\">A1</th>\n",
       "                        <th id=\"T_e940c_level1_row0\" class=\"row_heading level1 row0\" >EU</th>\n",
       "                        <td id=\"T_e940c_row0_col0\" class=\"data row0 col0\" >36.000000</td>\n",
       "                        <td id=\"T_e940c_row0_col1\" class=\"data row0 col1\" >9682.833333</td>\n",
       "                        <td id=\"T_e940c_row0_col2\" class=\"data row0 col2\" >10063.878322</td>\n",
       "                        <td id=\"T_e940c_row0_col3\" class=\"data row0 col3\" >728.000000</td>\n",
       "                        <td id=\"T_e940c_row0_col4\" class=\"data row0 col4\" >6292.000000</td>\n",
       "                        <td id=\"T_e940c_row0_col5\" class=\"data row0 col5\" >6461.000000</td>\n",
       "                        <td id=\"T_e940c_row0_col6\" class=\"data row0 col6\" >10361.000000</td>\n",
       "                        <td id=\"T_e940c_row0_col7\" class=\"data row0 col7\" >63024.000000</td>\n",
       "            </tr>\n",
       "            <tr>\n",
       "                                <th id=\"T_e940c_level1_row1\" class=\"row_heading level1 row1\" >NA</th>\n",
       "                        <td id=\"T_e940c_row1_col0\" class=\"data row1 col0\" >29.000000</td>\n",
       "                        <td id=\"T_e940c_row1_col1\" class=\"data row1 col1\" >12666.931034</td>\n",
       "                        <td id=\"T_e940c_row1_col2\" class=\"data row1 col2\" >14646.038848</td>\n",
       "                        <td id=\"T_e940c_row1_col3\" class=\"data row1 col3\" >1794.000000</td>\n",
       "                        <td id=\"T_e940c_row1_col4\" class=\"data row1 col4\" >4706.000000</td>\n",
       "                        <td id=\"T_e940c_row1_col5\" class=\"data row1 col5\" >9087.000000</td>\n",
       "                        <td id=\"T_e940c_row1_col6\" class=\"data row1 col6\" >12597.000000</td>\n",
       "                        <td id=\"T_e940c_row1_col7\" class=\"data row1 col7\" >64298.000000</td>\n",
       "            </tr>\n",
       "            <tr>\n",
       "                        <th id=\"T_e940c_level0_row2\" class=\"row_heading level0 row2\" rowspan=\"2\">A2</th>\n",
       "                        <th id=\"T_e940c_level1_row2\" class=\"row_heading level1 row2\" >EU</th>\n",
       "                        <td id=\"T_e940c_row2_col0\" class=\"data row2 col0\" >45.000000</td>\n",
       "                        <td id=\"T_e940c_row2_col1\" class=\"data row2 col1\" >10105.911111</td>\n",
       "                        <td id=\"T_e940c_row2_col2\" class=\"data row2 col2\" >11307.447354</td>\n",
       "                        <td id=\"T_e940c_row2_col3\" class=\"data row2 col3\" >2964.000000</td>\n",
       "                        <td id=\"T_e940c_row2_col4\" class=\"data row2 col4\" >6292.000000</td>\n",
       "                        <td id=\"T_e940c_row2_col5\" class=\"data row2 col5\" >6370.000000</td>\n",
       "                        <td id=\"T_e940c_row2_col6\" class=\"data row2 col6\" >10192.000000</td>\n",
       "                        <td id=\"T_e940c_row2_col7\" class=\"data row2 col7\" >75647.000000</td>\n",
       "            </tr>\n",
       "            <tr>\n",
       "                                <th id=\"T_e940c_level1_row3\" class=\"row_heading level1 row3\" >NA</th>\n",
       "                        <td id=\"T_e940c_row3_col0\" class=\"data row3 col0\" >32.000000</td>\n",
       "                        <td id=\"T_e940c_row3_col1\" class=\"data row3 col1\" >7386.031250</td>\n",
       "                        <td id=\"T_e940c_row3_col2\" class=\"data row3 col2\" >4836.334919</td>\n",
       "                        <td id=\"T_e940c_row3_col3\" class=\"data row3 col3\" >845.000000</td>\n",
       "                        <td id=\"T_e940c_row3_col4\" class=\"data row3 col4\" >4537.000000</td>\n",
       "                        <td id=\"T_e940c_row3_col5\" class=\"data row3 col5\" >6292.000000</td>\n",
       "                        <td id=\"T_e940c_row3_col6\" class=\"data row3 col6\" >8885.500000</td>\n",
       "                        <td id=\"T_e940c_row3_col7\" class=\"data row3 col7\" >23400.000000</td>\n",
       "            </tr>\n",
       "            <tr>\n",
       "                        <th id=\"T_e940c_level0_row4\" class=\"row_heading level0 row4\" rowspan=\"2\">B</th>\n",
       "                        <th id=\"T_e940c_level1_row4\" class=\"row_heading level1 row4\" >EU</th>\n",
       "                        <td id=\"T_e940c_row4_col0\" class=\"data row4 col0\" >32.000000</td>\n",
       "                        <td id=\"T_e940c_row4_col1\" class=\"data row4 col1\" >15101.125000</td>\n",
       "                        <td id=\"T_e940c_row4_col2\" class=\"data row4 col2\" >22568.328222</td>\n",
       "                        <td id=\"T_e940c_row4_col3\" class=\"data row4 col3\" >741.000000</td>\n",
       "                        <td id=\"T_e940c_row4_col4\" class=\"data row4 col4\" >4537.000000</td>\n",
       "                        <td id=\"T_e940c_row4_col5\" class=\"data row4 col5\" >7650.500000</td>\n",
       "                        <td id=\"T_e940c_row4_col6\" class=\"data row4 col6\" >15944.500000</td>\n",
       "                        <td id=\"T_e940c_row4_col7\" class=\"data row4 col7\" >126087.000000</td>\n",
       "            </tr>\n",
       "            <tr>\n",
       "                                <th id=\"T_e940c_level1_row5\" class=\"row_heading level1 row5\" >NA</th>\n",
       "                        <td id=\"T_e940c_row5_col0\" class=\"data row5 col0\" >22.000000</td>\n",
       "                        <td id=\"T_e940c_row5_col1\" class=\"data row5 col1\" >14174.136364</td>\n",
       "                        <td id=\"T_e940c_row5_col2\" class=\"data row5 col2\" >14144.796197</td>\n",
       "                        <td id=\"T_e940c_row5_col3\" class=\"data row5 col3\" >4602.000000</td>\n",
       "                        <td id=\"T_e940c_row5_col4\" class=\"data row5 col4\" >8242.000000</td>\n",
       "                        <td id=\"T_e940c_row5_col5\" class=\"data row5 col5\" >10023.000000</td>\n",
       "                        <td id=\"T_e940c_row5_col6\" class=\"data row5 col6\" >13702.000000</td>\n",
       "                        <td id=\"T_e940c_row5_col7\" class=\"data row5 col7\" >73125.000000</td>\n",
       "            </tr>\n",
       "    </tbody></table>"
      ],
      "text/plain": [
       "<pandas.io.formats.style.Styler at 0x2b2af321fd0>"
      ]
     },
     "execution_count": 118,
     "metadata": {},
     "output_type": "execute_result"
    }
   ],
   "source": [
    "transactions_pc \\\n",
    "    .groupby(['Group', 'region', 'uid']).agg({'revenue': 'sum'}) \\\n",
    "    .groupby(['Group', 'region']).revenue.describe() \\\n",
    "    .style.set_properties(**{'background-color': '#efdecd'}, subset=['mean'])"
   ]
  },
  {
   "cell_type": "code",
   "execution_count": 119,
   "id": "ffc40bfb",
   "metadata": {
    "scrolled": true
   },
   "outputs": [
    {
     "data": {
      "image/png": "[encoded data removed]",
      "text/plain": [
       "<Figure size 432x288 with 1 Axes>"
      ]
     },
     "metadata": {},
     "output_type": "display_data"
    }
   ],
   "source": [
    "sns.boxplot(x='Group', y='revenue', data=transactions_pc[transactions_pc['region'] == \"NA\"], palette='cool') \\\n",
    ".set_title('Revenue per user in North America')\n",
    "sns.despine()"
   ]
  },
  {
   "cell_type": "code",
   "execution_count": 120,
   "id": "9c5ae314",
   "metadata": {
    "scrolled": false
   },
   "outputs": [
    {
     "data": {
      "image/png": "[encoded data removed]",
      "text/plain": [
       "<Figure size 432x288 with 1 Axes>"
      ]
     },
     "metadata": {},
     "output_type": "display_data"
    }
   ],
   "source": [
    "sns.boxplot(x='Group', y='revenue', data=transactions_pc[transactions_pc['region'] == \"EU\"], palette='cool') \\\n",
    ".set_title('Revenue per user in Europe')\n",
    "sns.despine()"
   ]
  },
  {
   "cell_type": "code",
   "execution_count": 121,
   "id": "12967ecf",
   "metadata": {
    "scrolled": false
   },
   "outputs": [
    {
     "data": {
      "text/html": [
       "<div>\n",
       "<style scoped>\n",
       "    .dataframe tbody tr th:only-of-type {\n",
       "        vertical-align: middle;\n",
       "    }\n",
       "\n",
       "    .dataframe tbody tr th {\n",
       "        vertical-align: top;\n",
       "    }\n",
       "\n",
       "    .dataframe thead th {\n",
       "        text-align: right;\n",
       "    }\n",
       "</style>\n",
       "<table border=\"1\" class=\"dataframe\">\n",
       "  <thead>\n",
       "    <tr style=\"text-align: right;\">\n",
       "      <th></th>\n",
       "      <th>uid</th>\n",
       "      <th>Group</th>\n",
       "      <th>region</th>\n",
       "      <th>revenue</th>\n",
       "      <th>Groups</th>\n",
       "    </tr>\n",
       "  </thead>\n",
       "  <tbody>\n",
       "    <tr>\n",
       "      <th>161</th>\n",
       "      <td>892216461.0</td>\n",
       "      <td>A1</td>\n",
       "      <td>NA</td>\n",
       "      <td>64298.0</td>\n",
       "      <td>AA</td>\n",
       "    </tr>\n",
       "    <tr>\n",
       "      <th>61</th>\n",
       "      <td>891543996.0</td>\n",
       "      <td>A1</td>\n",
       "      <td>NA</td>\n",
       "      <td>6292.0</td>\n",
       "      <td>AA</td>\n",
       "    </tr>\n",
       "    <tr>\n",
       "      <th>58</th>\n",
       "      <td>891522666.0</td>\n",
       "      <td>A1</td>\n",
       "      <td>EU</td>\n",
       "      <td>4056.0</td>\n",
       "      <td>AA</td>\n",
       "    </tr>\n",
       "    <tr>\n",
       "      <th>56</th>\n",
       "      <td>891503397.0</td>\n",
       "      <td>A1</td>\n",
       "      <td>EU</td>\n",
       "      <td>6448.0</td>\n",
       "      <td>AA</td>\n",
       "    </tr>\n",
       "    <tr>\n",
       "      <th>118</th>\n",
       "      <td>892011654.0</td>\n",
       "      <td>A1</td>\n",
       "      <td>NA</td>\n",
       "      <td>2119.0</td>\n",
       "      <td>AA</td>\n",
       "    </tr>\n",
       "    <tr>\n",
       "      <th>...</th>\n",
       "      <td>...</td>\n",
       "      <td>...</td>\n",
       "      <td>...</td>\n",
       "      <td>...</td>\n",
       "      <td>...</td>\n",
       "    </tr>\n",
       "    <tr>\n",
       "      <th>82</th>\n",
       "      <td>891692940.0</td>\n",
       "      <td>B</td>\n",
       "      <td>NA</td>\n",
       "      <td>9100.0</td>\n",
       "      <td>B</td>\n",
       "    </tr>\n",
       "    <tr>\n",
       "      <th>75</th>\n",
       "      <td>891654090.0</td>\n",
       "      <td>B</td>\n",
       "      <td>NA</td>\n",
       "      <td>19500.0</td>\n",
       "      <td>B</td>\n",
       "    </tr>\n",
       "    <tr>\n",
       "      <th>71</th>\n",
       "      <td>891615909.0</td>\n",
       "      <td>B</td>\n",
       "      <td>EU</td>\n",
       "      <td>6279.0</td>\n",
       "      <td>B</td>\n",
       "    </tr>\n",
       "    <tr>\n",
       "      <th>104</th>\n",
       "      <td>891907887.0</td>\n",
       "      <td>B</td>\n",
       "      <td>NA</td>\n",
       "      <td>4706.0</td>\n",
       "      <td>B</td>\n",
       "    </tr>\n",
       "    <tr>\n",
       "      <th>97</th>\n",
       "      <td>891861048.0</td>\n",
       "      <td>B</td>\n",
       "      <td>NA</td>\n",
       "      <td>17810.0</td>\n",
       "      <td>B</td>\n",
       "    </tr>\n",
       "  </tbody>\n",
       "</table>\n",
       "<p>196 rows × 5 columns</p>\n",
       "</div>"
      ],
      "text/plain": [
       "             uid Group region  revenue Groups\n",
       "161  892216461.0    A1     NA  64298.0     AA\n",
       "61   891543996.0    A1     NA   6292.0     AA\n",
       "58   891522666.0    A1     EU   4056.0     AA\n",
       "56   891503397.0    A1     EU   6448.0     AA\n",
       "118  892011654.0    A1     NA   2119.0     AA\n",
       "..           ...   ...    ...      ...    ...\n",
       "82   891692940.0     B     NA   9100.0      B\n",
       "75   891654090.0     B     NA  19500.0      B\n",
       "71   891615909.0     B     EU   6279.0      B\n",
       "104  891907887.0     B     NA   4706.0      B\n",
       "97   891861048.0     B     NA  17810.0      B\n",
       "\n",
       "[196 rows x 5 columns]"
      ]
     },
     "execution_count": 121,
     "metadata": {},
     "output_type": "execute_result"
    }
   ],
   "source": [
    "transactions_pc['Groups'] = np.where(transactions_pc.Group == \"B\", \"B\", \"AA\")\n",
    "transactions_pc"
   ]
  },
  {
   "cell_type": "code",
   "execution_count": 122,
   "id": "4f6bf988",
   "metadata": {},
   "outputs": [
    {
     "data": {
      "image/png": "[encoded data removed]",
      "text/plain": [
       "<Figure size 432x288 with 1 Axes>"
      ]
     },
     "metadata": {},
     "output_type": "display_data"
    }
   ],
   "source": [
    "sns.boxplot(x='region', y='revenue', data=transactions_pc, hue='Groups', palette='cool') \\\n",
    ".set_title('Revenue per user')\n",
    "sns.despine()"
   ]
  },
  {
   "cell_type": "markdown",
   "id": "74e03acf",
   "metadata": {},
   "source": [
    "#### Hypothesis testing "
   ]
  },
  {
   "cell_type": "code",
   "execution_count": 123,
   "id": "1d357936",
   "metadata": {},
   "outputs": [
    {
     "name": "stdout",
     "output_type": "stream",
     "text": [
      "p-values:\n",
      "Control A1 and Control A2: 0.05066204055773784\n",
      "Control(A1 + A2) and Treatment(B): 0.06636638137457468\n",
      "- accept Null Hypothesis\n"
     ]
    }
   ],
   "source": [
    "# North America\n",
    "AA = get_bootstrap(transactions_pc.query('Group == \"A1\" & region == \"NA\"').revenue, \n",
    "                     transactions_pc.query('Group == \"A2\" & region == \"NA\"').revenue)\n",
    "AB = get_bootstrap(transactions_pc.query('Group == [\"A1\", \"A2\"] & region == \"NA\"').revenue,\n",
    "                     transactions_pc.query('Group == \"B\" & region == \"NA\"').revenue)\n",
    "print('p-values:')\n",
    "print(f'Control A1 and Control A2: {AA[\"p_value\"]}')\n",
    "print(f'Control(A1 + A2) and Treatment(B): {AB[\"p_value\"]}')\n",
    "print('- reject Null Hypothesis' if AA[\"p_value\"] > 0.025 and AB[\"p_value\"] <= 0.025 else '- accept Null Hypothesis')"
   ]
  },
  {
   "cell_type": "code",
   "execution_count": 124,
   "id": "26c3c3d0",
   "metadata": {
    "scrolled": false
   },
   "outputs": [
    {
     "name": "stdout",
     "output_type": "stream",
     "text": [
      "p-values:\n",
      "Control A1 and Control A2: 0.895972166936962\n",
      "Control(A1 + A2) and Treatment(B): 0.07793884131971003\n",
      "- accept Null Hypothesis\n"
     ]
    }
   ],
   "source": [
    "# Check Europe\n",
    "AA = get_bootstrap(transactions_pc.query('Group == \"A1\" & region == \"EU\"').revenue, \n",
    "                     transactions_pc.query('Group == \"A2\" & region == \"EU\"').revenue)\n",
    "AB = get_bootstrap(transactions_pc.query('Group == [\"A1\", \"A2\"] & region == \"EU\"').revenue,\n",
    "                     transactions_pc.query('Group == \"B\" & region == \"EU\"').revenue)\n",
    "print('p-values:')\n",
    "print(f'Control A1 and Control A2: {AA[\"p_value\"]}')\n",
    "print(f'Control(A1 + A2) and Treatment(B): {AB[\"p_value\"]}')\n",
    "print('- reject Null Hypothesis' if AA[\"p_value\"] > 0.025 and AB[\"p_value\"] <= 0.025 else '- accept Null Hypothesis')"
   ]
  },
  {
   "cell_type": "markdown",
   "id": "1a0ecfa4",
   "metadata": {},
   "source": [
    "***\n",
    "## Conclusion\n",
    "The A/A test results show that the groups were equally and randomly split.<br>\n",
    "Changing the price for premium subscription makes sense for Europe (p-value < 0.025). For North America however the test shows that there is no significant effect on ARPPU.<br>\n",
    "If to analyze ARPPU considering both revenues from Premium subscription and from Coins significant difference is not observed."
   ]
  },
  {
   "cell_type": "code",
   "execution_count": null,
   "id": "3ad26185",
   "metadata": {},
   "outputs": [],
   "source": []
  }
 ],
 "metadata": {
  "kernelspec": {
   "display_name": "Python 3",
   "language": "python",
   "name": "python3"
  },
  "language_info": {
   "codemirror_mode": {
    "name": "ipython",
    "version": 3
   },
   "file_extension": ".py",
   "mimetype": "text/x-python",
   "name": "python",
   "nbconvert_exporter": "python",
   "pygments_lexer": "ipython3",
   "version": "3.8.8"
  }
 },
 "nbformat": 4,
 "nbformat_minor": 5
}
